{
  "nbformat": 4,
  "nbformat_minor": 0,
  "metadata": {
    "colab": {
      "provenance": []
    },
    "kernelspec": {
      "name": "python3",
      "display_name": "Python 3"
    },
    "language_info": {
      "name": "python"
    }
  },
  "cells": [
    {
      "cell_type": "code",
      "execution_count": null,
      "metadata": {
        "colab": {
          "base_uri": "https://localhost:8080/"
        },
        "id": "LLixNTvACes_",
        "outputId": "b20f14f7-64da-45bb-bf0b-a17ae2b85499"
      },
      "outputs": [
        {
          "output_type": "stream",
          "name": "stdout",
          "text": [
            "doog\n"
          ]
        }
      ],
      "source": [
        "\n",
        "string = \"good\"\n",
        "reversed_string = string[::-1]\n",
        "print(reversed_string)"
      ]
    },
    {
      "cell_type": "code",
      "source": [
        "s = \"xxxyyyzzz\"\n",
        "\n",
        "a = list(s)\n",
        "\n",
        "# change every third letter in place with a list comprehension\n",
        "a[2::3] = [x.upper() for x in a[2::3]]\n",
        "\n",
        "# back to a string\n",
        "s = ''.join(a)\n",
        "\n",
        "print(s)"
      ],
      "metadata": {
        "colab": {
          "base_uri": "https://localhost:8080/"
        },
        "id": "4KjbG3CJCzb-",
        "outputId": "04f23ec7-8941-4022-eccc-ad9bf675d0aa"
      },
      "execution_count": null,
      "outputs": [
        {
          "output_type": "stream",
          "name": "stdout",
          "text": [
            "xxXyyYzzZ\n"
          ]
        }
      ]
    },
    {
      "cell_type": "code",
      "source": [
        "# If the 3rd is a digit fail, run an error\n",
        "#input_string = input(\"Enter a string:\")\n",
        "\n",
        "#if len(input_string) >= 3 and input_string[2].isdigit():\n",
        "   # raise ValueError(\"Error: The third character is a digit.\")\n",
        "\n",
        "# indicate whether an error condition has been encountered\n",
        "error_flag = False\n",
        "\n",
        "# Asks the user to input a string\n",
        "input_string = input(\"Enter a string:\")\n",
        "\n",
        "# check if the length is equal to or greater than 3\n",
        "if len(input_string) >= 3:\n",
        "\n",
        "\n",
        "    third_character = input_string[2]\n",
        "\n",
        "# If the length condition is met, extract the third character from using indexing (0-9)\n",
        "\n",
        "    if third_character in '0123456789':\n",
        "        error_flag = True\n",
        "\n",
        "# If the third_character is  a digit, set  error_flag to True\n",
        "if error_flag:\n",
        "    print(\"Error: The third character is a digit.\")\n",
        "\n",
        "\n",
        "\n",
        "\n",
        "\n"
      ],
      "metadata": {
        "colab": {
          "base_uri": "https://localhost:8080/"
        },
        "id": "Sa9jsZO2DXUO",
        "outputId": "8d99ed99-9836-495f-db45-5c76fc03c577"
      },
      "execution_count": null,
      "outputs": [
        {
          "name": "stdout",
          "output_type": "stream",
          "text": [
            "Enter a string:hello\n"
          ]
        }
      ]
    },
    {
      "cell_type": "code",
      "source": [
        "##### Palindrome ######\n",
        "\n",
        "# Ask the user to input a string\n",
        "string = input(\"Enter string: \")\n",
        "\n",
        "# Remove spaces and convert to lowercase\n",
        "cleaned_string = ''.join(char.lower() for char in string if char.isalnum())\n",
        "\n",
        "# Reverse the cleaned string\n",
        "reversed_string = cleaned_string[::-1]\n",
        "\n",
        "if cleaned_string == reversed_string:\n",
        "    print(\"Yes, it is a palindrome.\")\n",
        "else:\n",
        "    print(\"No, it is not a palindrome.\")\n",
        "\n"
      ],
      "metadata": {
        "colab": {
          "base_uri": "https://localhost:8080/"
        },
        "id": "R-nEZQaNOJb-",
        "outputId": "ce3bdd67-e3c9-4734-9fe8-f9ca97a70f67"
      },
      "execution_count": null,
      "outputs": [
        {
          "output_type": "stream",
          "name": "stdout",
          "text": [
            "Enter string: nurses run\n",
            "Yes, it is a palindrome.\n"
          ]
        }
      ]
    },
    {
      "cell_type": "code",
      "source": [],
      "metadata": {
        "id": "_idZtU1bWZnt"
      },
      "execution_count": null,
      "outputs": []
    }
  ]
}