{
  "nbformat": 4,
  "nbformat_minor": 0,
  "metadata": {
    "colab": {
      "provenance": []
    },
    "kernelspec": {
      "name": "python3",
      "display_name": "Python 3"
    },
    "language_info": {
      "name": "python"
    }
  },
  "cells": [
    {
      "cell_type": "code",
      "execution_count": 2,
      "metadata": {
        "colab": {
          "base_uri": "https://localhost:8080/"
        },
        "id": "YG2u1Lm9St7m",
        "outputId": "5c122eb5-7132-4213-da5c-fb674b0ee164"
      },
      "outputs": [
        {
          "output_type": "stream",
          "name": "stdout",
          "text": [
            "[2.0, 1.65, 1.6]\n"
          ]
        }
      ],
      "source": [
        "height_feature = [2.0, 1.65, 1.60]\n",
        "print(height_feature)"
      ]
    },
    {
      "cell_type": "code",
      "source": [
        "print(\"Number of data points: \")\n",
        "number_of_items = len(height_feature)\n",
        "print(number_of_items)"
      ],
      "metadata": {
        "colab": {
          "base_uri": "https://localhost:8080/"
        },
        "id": "3RIFDzTKTXZc",
        "outputId": "e7f19467-81ef-4500-de7f-4245bcfe7084"
      },
      "execution_count": 3,
      "outputs": [
        {
          "output_type": "stream",
          "name": "stdout",
          "text": [
            "Number of data points: \n",
            "3\n"
          ]
        }
      ]
    },
    {
      "cell_type": "code",
      "source": [
        "names = [\"Belly\", \"Ezzy\"]\n",
        "heights = [1.6, 2.0]\n",
        "print(names[0], \"is\", heights[0], \"tall\")\n"
      ],
      "metadata": {
        "colab": {
          "base_uri": "https://localhost:8080/"
        },
        "id": "xYJcmYROUfp_",
        "outputId": "3eba7481-e2f2-4577-d74a-2e9e1a129910"
      },
      "execution_count": 14,
      "outputs": [
        {
          "output_type": "stream",
          "name": "stdout",
          "text": [
            "Belly is 1.6 tall\n"
          ]
        }
      ]
    },
    {
      "cell_type": "code",
      "source": [
        "names = [\"Mark\", \"Aroah\", \"Sam\"]\n",
        "print(names)\n",
        "names[0] = \"angie\"\n",
        "names[1]= \"smith\"\n",
        "print(names)\n",
        "names[0]\n",
        "names[0], names[-1] = names[-1], names[0]\n",
        "print(names)\n"
      ],
      "metadata": {
        "colab": {
          "base_uri": "https://localhost:8080/"
        },
        "id": "vD_QJzyoXgd9",
        "outputId": "1d92c726-2b3e-4a7d-f59d-554493347fb6"
      },
      "execution_count": 1,
      "outputs": [
        {
          "output_type": "stream",
          "name": "stdout",
          "text": [
            "['Mark', 'Aroah', 'Sam']\n",
            "['angie', 'smith', 'Sam']\n",
            "['Sam', 'smith', 'angie']\n"
          ]
        }
      ]
    },
    {
      "cell_type": "code",
      "source": [
        "\n",
        "def swap_name_list(newNameList):\n",
        "\n",
        "    newNameList[0], newNameList[-1] = newNameList[-1], newNameList[0]\n",
        "\n",
        "    return newNameList\n",
        "\n",
        "\n",
        "newNameList = [\"Mark\", \"Aroah\", \"Macie\"]\n",
        "print(swap_name_list(newNameList))\n"
      ],
      "metadata": {
        "colab": {
          "base_uri": "https://localhost:8080/"
        },
        "id": "AyNjyn_TZrc-",
        "outputId": "cf17f226-f368-485a-b5aa-c10ae140045d"
      },
      "execution_count": 19,
      "outputs": [
        {
          "output_type": "stream",
          "name": "stdout",
          "text": [
            "['Macie', 'Aroah', 'Mark']\n"
          ]
        }
      ]
    },
    {
      "cell_type": "code",
      "source": [
        "math_answers = [10, 5, 13]\n",
        "q2_answer = math_answers[1]\n",
        "print(q2_answer)"
      ],
      "metadata": {
        "colab": {
          "base_uri": "https://localhost:8080/"
        },
        "id": "kItZvIhSdp9s",
        "outputId": "cf077838-677a-4b4c-d150-ddcc13efefb2"
      },
      "execution_count": 20,
      "outputs": [
        {
          "output_type": "stream",
          "name": "stdout",
          "text": [
            "5\n"
          ]
        }
      ]
    },
    {
      "cell_type": "code",
      "source": [
        "math_answers[1] = 9\n",
        "print(math_answers)\n",
        "print(q2_answer)"
      ],
      "metadata": {
        "colab": {
          "base_uri": "https://localhost:8080/"
        },
        "id": "EaNZI2X4dy01",
        "outputId": "54b34dd4-de64-4b90-b8aa-4c13fcdb78f7"
      },
      "execution_count": 21,
      "outputs": [
        {
          "output_type": "stream",
          "name": "stdout",
          "text": [
            "[10, 9, 13]\n",
            "5\n"
          ]
        }
      ]
    }
  ]
}