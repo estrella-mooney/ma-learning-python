{
  "nbformat": 4,
  "nbformat_minor": 0,
  "metadata": {
    "colab": {
      "provenance": [],
      "authorship_tag": "ABX9TyNVrmAf29u76MfqS05J+1Do",
      "include_colab_link": true
    },
    "kernelspec": {
      "name": "python3",
      "display_name": "Python 3"
    },
    "language_info": {
      "name": "python"
    }
  },
  "cells": [
    {
      "cell_type": "markdown",
      "metadata": {
        "id": "view-in-github",
        "colab_type": "text"
      },
      "source": [
        "<a href=\"https://colab.research.google.com/github/estrella-mooney/ma-learning-python/blob/main/Decision_Trees.ipynb\" target=\"_parent\"><img src=\"https://colab.research.google.com/assets/colab-badge.svg\" alt=\"Open In Colab\"/></a>"
      ]
    },
    {
      "cell_type": "code",
      "execution_count": 14,
      "metadata": {
        "id": "69hgRR9Njl7U"
      },
      "outputs": [],
      "source": [
        "# Import libraries, features and settings (not all of these are needed so pull what you need)\n",
        "\n",
        "import matplotlib.pyplot as plt\n",
        "import numpy as np\n",
        "from sklearn import datasets, linear_model\n",
        "from sklearn.metrics import mean_squared_error, r2_score\n",
        "import pandas as pd\n",
        "import io\n",
        "%matplotlib inline\n",
        "import matplotlib.pyplot as plt\n",
        "import seaborn as sns; sns.set()\n",
        "from sklearn import preprocessing\n",
        "plt.rc(\"font\", size = 14)\n",
        "from sklearn.linear_model import LogisticRegression\n",
        "from sklearn.model_selection import train_test_split\n",
        "sns.set(style=\"white\")\n",
        "sns.set(style=\"whitegrid\", color_codes = True)"
      ]
    },
    {
      "cell_type": "code",
      "source": [
        "df = pd.read_csv('water_potability_clean_using_mean.csv')"
      ],
      "metadata": {
        "id": "oXz4U6Aej2SZ"
      },
      "execution_count": 15,
      "outputs": []
    },
    {
      "cell_type": "code",
      "source": [
        "train, test = train_test_split(df, test_size=0.2, random_state=42)"
      ],
      "metadata": {
        "id": "uO5BSNJvkCOc"
      },
      "execution_count": 16,
      "outputs": []
    },
    {
      "cell_type": "code",
      "source": [
        "# print the total size\n",
        "print(len(df))\n",
        "#print the test size\n",
        "print(len(test))\n",
        "#prtint the train size\n",
        "print(len(train))"
      ],
      "metadata": {
        "colab": {
          "base_uri": "https://localhost:8080/"
        },
        "id": "vMWh5FDJkS_-",
        "outputId": "4e4d2dbe-d865-48ff-98d5-08b483dd5de9"
      },
      "execution_count": 17,
      "outputs": [
        {
          "output_type": "stream",
          "name": "stdout",
          "text": [
            "3276\n",
            "656\n",
            "2620\n"
          ]
        }
      ]
    },
    {
      "cell_type": "code",
      "source": [
        "df.info()"
      ],
      "metadata": {
        "colab": {
          "base_uri": "https://localhost:8080/"
        },
        "id": "n5IUGsc2mRJC",
        "outputId": "69d10d97-6ff2-4ac1-c1b6-20d6a7267fa3"
      },
      "execution_count": 18,
      "outputs": [
        {
          "output_type": "stream",
          "name": "stdout",
          "text": [
            "<class 'pandas.core.frame.DataFrame'>\n",
            "RangeIndex: 3276 entries, 0 to 3275\n",
            "Data columns (total 11 columns):\n",
            " #   Column           Non-Null Count  Dtype  \n",
            "---  ------           --------------  -----  \n",
            " 0   Unnamed: 0       3276 non-null   int64  \n",
            " 1   ph               3276 non-null   float64\n",
            " 2   Hardness         3276 non-null   float64\n",
            " 3   Solids           3276 non-null   float64\n",
            " 4   Chloramines      3276 non-null   float64\n",
            " 5   Sulfate          3276 non-null   float64\n",
            " 6   Conductivity     3276 non-null   float64\n",
            " 7   Organic_carbon   3276 non-null   float64\n",
            " 8   Trihalomethanes  3276 non-null   float64\n",
            " 9   Turbidity        3276 non-null   float64\n",
            " 10  Potability       3276 non-null   int64  \n",
            "dtypes: float64(9), int64(2)\n",
            "memory usage: 281.7 KB\n"
          ]
        }
      ]
    },
    {
      "cell_type": "code",
      "source": [
        "features = ['ph', 'Sulfate', 'Organic_carbon', 'Chloramines', 'Solids', 'Conductivity', 'Turbidity' ]\n",
        "label = ['Potability']\n",
        "\n",
        "X_train = train[features]\n",
        "y_train = train[label]\n",
        "\n",
        "\n",
        "X_test = test[features]\n",
        "y_test = test[label]\n"
      ],
      "metadata": {
        "id": "_LVkFaIPlP_s"
      },
      "execution_count": 19,
      "outputs": []
    },
    {
      "cell_type": "code",
      "source": [
        "# alternative way of writing the code boave\n",
        "# iloc allows us to select columns by their id's\n",
        "#X_train = train.iloc[:,1:-1]\n",
        "#y_train = train['Potability']\n",
        "\n",
        "\n",
        "#X_test = test.iloc[:,1:-1]\n",
        "#y_test = test['Potability']\n"
      ],
      "metadata": {
        "id": "gFyD1vF7mafs"
      },
      "execution_count": 20,
      "outputs": []
    },
    {
      "cell_type": "code",
      "source": [
        "# build the model"
      ],
      "metadata": {
        "id": "Yxkl5MMWniVG"
      },
      "execution_count": 21,
      "outputs": []
    },
    {
      "cell_type": "code",
      "source": [
        "##### All Need to do is REPLACE THIS WITH  TREE\n",
        "from sklearn import tree\n",
        "# create a variable called logreg\n",
        "beachtree = tree.DecisionTreeClassifier(random_state=42)\n",
        "# we will then fit the model (line of best fit with out train)\n",
        "beachtree.fit(X_train, y_train)\n",
        "y_pred = beachtree.predict(X_test)"
      ],
      "metadata": {
        "id": "6Opsezimnj5j"
      },
      "execution_count": 22,
      "outputs": []
    },
    {
      "cell_type": "code",
      "source": [
        "from sklearn import metrics\n",
        "cnf_matrix = metrics.confusion_matrix(y_test, y_pred)\n",
        "cnf_matrix"
      ],
      "metadata": {
        "colab": {
          "base_uri": "https://localhost:8080/"
        },
        "id": "lmKh3sJXpBZ2",
        "outputId": "d09c0411-61d3-4c18-cb28-8a80b5b08a60"
      },
      "execution_count": 23,
      "outputs": [
        {
          "output_type": "execute_result",
          "data": {
            "text/plain": [
              "array([[270, 142],\n",
              "       [136, 108]])"
            ]
          },
          "metadata": {},
          "execution_count": 23
        }
      ]
    },
    {
      "cell_type": "code",
      "source": [
        "from sklearn.metrics import accuracy_score\n",
        "#calculate accuracy score\n",
        "accuracy_score(y_test, y_pred)"
      ],
      "metadata": {
        "colab": {
          "base_uri": "https://localhost:8080/"
        },
        "id": "CuLL_IBWpx6O",
        "outputId": "ff23443b-7a0a-43df-bdf9-be2b8b95f72e"
      },
      "execution_count": 24,
      "outputs": [
        {
          "output_type": "execute_result",
          "data": {
            "text/plain": [
              "0.5762195121951219"
            ]
          },
          "metadata": {},
          "execution_count": 24
        }
      ]
    },
    {
      "cell_type": "code",
      "source": [
        "class_names=[0,1] # name  of classes\n",
        "fig, ax = plt.subplots()\n",
        "tick_marks = np.arange(len(class_names))\n",
        "plt.xticks(tick_marks, class_names)\n",
        "plt.yticks(tick_marks, class_names)\n",
        "# create heatmap\n",
        "sns.heatmap(pd.DataFrame(cnf_matrix), annot=True, cmap=\"YlGnBu\" ,fmt='g')\n",
        "ax.xaxis.set_label_position(\"top\")\n",
        "plt.tight_layout()\n",
        "plt.title('Confusion matrix', y=1.1)\n",
        "plt.ylabel('Actual label')\n",
        "plt.xlabel('Predicted label')"
      ],
      "metadata": {
        "colab": {
          "base_uri": "https://localhost:8080/",
          "height": 562
        },
        "id": "4THb6jeZpkmw",
        "outputId": "edb403db-e2f4-4a55-d1a2-a0a29ee37855"
      },
      "execution_count": 25,
      "outputs": [
        {
          "output_type": "execute_result",
          "data": {
            "text/plain": [
              "Text(0.5, 427.9555555555555, 'Predicted label')"
            ]
          },
          "metadata": {},
          "execution_count": 25
        },
        {
          "output_type": "display_data",
          "data": {
            "text/plain": [
              "<Figure size 640x480 with 2 Axes>"
            ],
            "image/png": "[encoded data removed]"
          },
          "metadata": {}
        }
      ]
    }
  ]
}