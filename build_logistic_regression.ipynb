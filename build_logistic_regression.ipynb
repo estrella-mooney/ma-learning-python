{
  "nbformat": 4,
  "nbformat_minor": 0,
  "metadata": {
    "colab": {
      "provenance": [],
      "authorship_tag": "ABX9TyM4xyGDJIJ9zaP5DVdsEH/a",
      "include_colab_link": true
    },
    "kernelspec": {
      "name": "python3",
      "display_name": "Python 3"
    },
    "language_info": {
      "name": "python"
    }
  },
  "cells": [
    {
      "cell_type": "markdown",
      "metadata": {
        "id": "view-in-github",
        "colab_type": "text"
      },
      "source": [
        "<a href=\"https://colab.research.google.com/github/estrella-mooney/ma-learning-python/blob/main/build_logistic_regression.ipynb\" target=\"_parent\"><img src=\"https://colab.research.google.com/assets/colab-badge.svg\" alt=\"Open In Colab\"/></a>"
      ]
    },
    {
      "cell_type": "code",
      "execution_count": 98,
      "metadata": {
        "id": "69hgRR9Njl7U"
      },
      "outputs": [],
      "source": [
        "# Import libraries, features and settings (not all of these are needed so pull what you need)\n",
        "\n",
        "import matplotlib.pyplot as plt\n",
        "import numpy as np\n",
        "from sklearn import datasets, linear_model\n",
        "from sklearn.metrics import mean_squared_error, r2_score\n",
        "import pandas as pd\n",
        "import io\n",
        "%matplotlib inline\n",
        "import matplotlib.pyplot as plt\n",
        "import seaborn as sns; sns.set()\n",
        "from sklearn import preprocessing\n",
        "plt.rc(\"font\", size = 14)\n",
        "from sklearn.linear_model import LogisticRegression\n",
        "from sklearn.model_selection import train_test_split\n",
        "sns.set(style=\"white\")\n",
        "sns.set(style=\"whitegrid\", color_codes = True)"
      ]
    },
    {
      "cell_type": "code",
      "source": [
        "df = pd.read_csv('water_potability_clean_dropna.csv')"
      ],
      "metadata": {
        "id": "oXz4U6Aej2SZ"
      },
      "execution_count": 99,
      "outputs": []
    },
    {
      "cell_type": "code",
      "source": [
        "train, test = train_test_split(df, test_size=0.2, random_state=42)"
      ],
      "metadata": {
        "id": "uO5BSNJvkCOc"
      },
      "execution_count": 100,
      "outputs": []
    },
    {
      "cell_type": "code",
      "source": [
        "# print the total size\n",
        "print(len(df))\n",
        "#print the test size\n",
        "print(len(test))\n",
        "#prtint the train size\n",
        "print(len(train))"
      ],
      "metadata": {
        "colab": {
          "base_uri": "https://localhost:8080/"
        },
        "id": "vMWh5FDJkS_-",
        "outputId": "c1f093b4-72bf-4045-8c33-b6371524d0d5"
      },
      "execution_count": 101,
      "outputs": [
        {
          "output_type": "stream",
          "name": "stdout",
          "text": [
            "2011\n",
            "403\n",
            "1608\n"
          ]
        }
      ]
    },
    {
      "cell_type": "code",
      "source": [
        "df.info()"
      ],
      "metadata": {
        "colab": {
          "base_uri": "https://localhost:8080/"
        },
        "id": "n5IUGsc2mRJC",
        "outputId": "de2fe487-51f9-4730-9679-0be5c01da282"
      },
      "execution_count": 102,
      "outputs": [
        {
          "output_type": "stream",
          "name": "stdout",
          "text": [
            "<class 'pandas.core.frame.DataFrame'>\n",
            "RangeIndex: 2011 entries, 0 to 2010\n",
            "Data columns (total 11 columns):\n",
            " #   Column           Non-Null Count  Dtype  \n",
            "---  ------           --------------  -----  \n",
            " 0   Unnamed: 0       2011 non-null   int64  \n",
            " 1   ph               2011 non-null   float64\n",
            " 2   Hardness         2011 non-null   float64\n",
            " 3   Solids           2011 non-null   float64\n",
            " 4   Chloramines      2011 non-null   float64\n",
            " 5   Sulfate          2011 non-null   float64\n",
            " 6   Conductivity     2011 non-null   float64\n",
            " 7   Organic_carbon   2011 non-null   float64\n",
            " 8   Trihalomethanes  2011 non-null   float64\n",
            " 9   Turbidity        2011 non-null   float64\n",
            " 10  Potability       2011 non-null   int64  \n",
            "dtypes: float64(9), int64(2)\n",
            "memory usage: 172.9 KB\n"
          ]
        }
      ]
    },
    {
      "cell_type": "code",
      "source": [
        "features = ['ph', 'Sulfate', 'Organic_carbon', 'Chloramines', 'Solids', 'Conductivity', 'Turbidity' ]\n",
        "label = ['Potability']\n",
        "\n",
        "X_train = train[features]\n",
        "y_train = train[label]\n",
        "\n",
        "\n",
        "X_test = test[features]\n",
        "y_test = test[label]\n"
      ],
      "metadata": {
        "id": "_LVkFaIPlP_s"
      },
      "execution_count": 103,
      "outputs": []
    },
    {
      "cell_type": "code",
      "source": [
        "# alternative way of writing the code boave\n",
        "# iloc allows us to select columns by their id's\n",
        "#X_train = train.iloc[:,1:-1]\n",
        "#y_train = train['Potability']\n",
        "\n",
        "\n",
        "#X_test = test.iloc[:,1:-1]\n",
        "#y_test = test['Potability']\n"
      ],
      "metadata": {
        "id": "gFyD1vF7mafs"
      },
      "execution_count": 104,
      "outputs": []
    },
    {
      "cell_type": "code",
      "source": [
        "# build the model"
      ],
      "metadata": {
        "id": "Yxkl5MMWniVG"
      },
      "execution_count": 105,
      "outputs": []
    },
    {
      "cell_type": "code",
      "source": [
        "from sklearn.linear_model import LogisticRegression\n",
        "# create a variable called logreg\n",
        "logreg = LogisticRegression(random_state=42)\n",
        "# we will then fit the model (line of best fit with out train)\n",
        "logreg.fit(X_train, y_train)\n",
        "y_pred = logreg.predict(X_test)\n",
        "y_pred = logreg.predict(X_test)"
      ],
      "metadata": {
        "colab": {
          "base_uri": "https://localhost:8080/"
        },
        "id": "6Opsezimnj5j",
        "outputId": "1376f1ef-38cb-4e4c-9e25-1d54adcc1843"
      },
      "execution_count": 106,
      "outputs": [
        {
          "output_type": "stream",
          "name": "stderr",
          "text": [
            "/usr/local/lib/python3.10/dist-packages/sklearn/utils/validation.py:1143: DataConversionWarning: A column-vector y was passed when a 1d array was expected. Please change the shape of y to (n_samples, ), for example using ravel().\n",
            "  y = column_or_1d(y, warn=True)\n"
          ]
        }
      ]
    },
    {
      "cell_type": "code",
      "source": [
        "from sklearn import metrics\n",
        "cnf_matrix = metrics.confusion_matrix(y_test, y_pred)\n",
        "cnf_matrix"
      ],
      "metadata": {
        "colab": {
          "base_uri": "https://localhost:8080/"
        },
        "id": "lmKh3sJXpBZ2",
        "outputId": "81564050-6e86-4d76-8f0c-75ee0cf4c8da"
      },
      "execution_count": 107,
      "outputs": [
        {
          "output_type": "execute_result",
          "data": {
            "text/plain": [
              "array([[231,   0],\n",
              "       [172,   0]])"
            ]
          },
          "metadata": {},
          "execution_count": 107
        }
      ]
    },
    {
      "cell_type": "code",
      "source": [
        "from sklearn.metrics import accuracy_score\n",
        "#calculate accuracy score\n",
        "accuracy_score(y_test, y_pred)"
      ],
      "metadata": {
        "colab": {
          "base_uri": "https://localhost:8080/"
        },
        "id": "CuLL_IBWpx6O",
        "outputId": "54cf399b-fda9-4491-fc91-56ebfbcb92c1"
      },
      "execution_count": 108,
      "outputs": [
        {
          "output_type": "execute_result",
          "data": {
            "text/plain": [
              "0.5732009925558312"
            ]
          },
          "metadata": {},
          "execution_count": 108
        }
      ]
    },
    {
      "cell_type": "code",
      "source": [
        "class_names=[0,1] # name  of classes\n",
        "fig, ax = plt.subplots()\n",
        "tick_marks = np.arange(len(class_names))\n",
        "plt.xticks(tick_marks, class_names)\n",
        "plt.yticks(tick_marks, class_names)\n",
        "# create heatmap\n",
        "sns.heatmap(pd.DataFrame(cnf_matrix), annot=True, cmap=\"YlGnBu\" ,fmt='g')\n",
        "ax.xaxis.set_label_position(\"top\")\n",
        "plt.tight_layout()\n",
        "plt.title('Confusion matrix', y=1.1)\n",
        "plt.ylabel('Actual label')\n",
        "plt.xlabel('Predicted label')"
      ],
      "metadata": {
        "colab": {
          "base_uri": "https://localhost:8080/",
          "height": 562
        },
        "id": "4THb6jeZpkmw",
        "outputId": "4d414e53-0177-4ce4-caeb-f7327aa9ea2d"
      },
      "execution_count": 109,
      "outputs": [
        {
          "output_type": "execute_result",
          "data": {
            "text/plain": [
              "Text(0.5, 427.9555555555555, 'Predicted label')"
            ]
          },
          "metadata": {},
          "execution_count": 109
        },
        {
          "output_type": "display_data",
          "data": {
            "text/plain": [
              "<Figure size 640x480 with 2 Axes>"
            ],
            "image/png": "[encoded data removed]"
          },
          "metadata": {}
        }
      ]
    }
  ]
}