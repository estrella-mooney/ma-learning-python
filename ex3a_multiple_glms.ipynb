{
  "cells": [
    {
      "cell_type": "markdown",
      "metadata": {
        "id": "view-in-github",
        "colab_type": "text"
      },
      "source": [
        "<a href=\"https://colab.research.google.com/github/estrella-mooney/ma-learning-python/blob/main/ex3a_multiple_glms.ipynb\" target=\"_parent\"><img src=\"https://colab.research.google.com/assets/colab-badge.svg\" alt=\"Open In Colab\"/></a>"
      ]
    },
    {
      "cell_type": "markdown",
      "metadata": {
        "id": "7dLrPERMVbTY"
      },
      "source": [
        "# Predicting Health Insurance Costs\n",
        "\n",
        "\n",
        "This is a longer exercise which you will start in class and finish during your self-driven learning time after class. There may also be in-class time tomorrow to ask for help or feedback from the tutor.\n",
        "\n",
        "This is not an assessment. It is a learning exercise that will prepare you for assessments later on.\n",
        "\n",
        "This exercise requires that you write much more code than you have before. It is intended to be more difficult, but this struggle will improve your skills.\n",
        "\n",
        "To make things easier and learn:\n",
        "* Use other notebooks you have previously completed as a reference to help you do this work. This is NOT cheating - it's how people learn code.\n",
        "* Ask the tutor for help when you get stuck\n",
        "* Other references like slides and Google are OK too, though you should not need them\n",
        "* Do not copy other students' answers - you need to learn now so that you do not struggle with exercises in later weeks\n",
        "\n",
        "\n",
        "## The scenario\n",
        "\n",
        "_You’ve been hired by a USA-based financial planning service._\n",
        "_They want to be able to tell clients how much they can expect to pay in medical insurance charges in the future._\n",
        "\n",
        "_They have historical data from clients with information like age, smoking status, and how much they paid in medical insurance._\n",
        "\n",
        "_They need a model that can predict most people’s costs within $5000._\n",
        "_Can you build a model that can do this?_\n",
        "\n",
        "## Our steps\n",
        "\n",
        "This exercise is broken into two notebooks. These walk you through building a model in a similar way to how you might in the real world.\n",
        "\n",
        "### Notebook One\n",
        "\n",
        "We will:\n",
        "\n",
        "1. Import pandas\n",
        "1. Open the data and look at it\n",
        "1. Graph some of the data\n",
        "1. Split the data into training and test sets\n",
        "1. Make a simple linear regression model that predicts healthcare charges from one feature\n",
        "1. Train the model simple linear regression model\n",
        "1. Visualise the simple linear regression model\n",
        "1. Test the simple linear regression model\n",
        "\n",
        "### Notebook Two\n",
        "\n",
        "We will:\n",
        "\n",
        "1. Import all packages needed\n",
        "1. Open the data\n",
        "1. Graph some more of the data to see other features\n",
        "1. Build a second simple linear regression model using another feature\n",
        "1. Train and test it\n",
        "1. Build a multiple linear regression model that uses two features\n",
        "1. Train it\n",
        "1. Test to see whether our model can predict most people's costs within $5000 or not\n",
        "1. Demonstrate that training and test sets are not a perfect approach\n"
      ]
    },
    {
      "cell_type": "markdown",
      "metadata": {
        "id": "o_KWVQ0SVbTg"
      },
      "source": [
        "# Notebook One\n",
        "\n",
        "## Step 1: Import Pandas\n",
        "\n",
        "Our data are in a text file and we need pandas to open it.\n",
        "\n",
        "First, you need to import the pandas package\n",
        "\n",
        "### Instructions\n",
        "\n",
        "1. Write code below that imports the pandas package\n",
        "1. Run the cell\n",
        "\n",
        "### Hints\n",
        "\n",
        "* There is an example of a package called `sys` being imported in the top line of the cell. You want something similar, but for `pandas`\n",
        "* If you cannot recall how to do this, open an old notebook you previously finished and look for where pandas is imported"
      ]
    },
    {
      "cell_type": "code",
      "execution_count": 3,
      "metadata": {
        "id": "s69vgDk4VbTg",
        "outputId": "160d30f0-0610-4c50-8814-706c0f0164e3",
        "colab": {
          "base_uri": "https://localhost:8080/"
        }
      },
      "outputs": [
        {
          "output_type": "stream",
          "name": "stdout",
          "text": [
            "Well done! Pandas was imported successfully\n"
          ]
        }
      ],
      "source": [
        "#here will import the packages such as panda and scikit-learn\n",
        "import sys\n",
        "import pandas\n",
        "\n",
        "\n",
        "# ===========================================================\n",
        "# You can ignore the code below. It will simply check your code\n",
        "if 'pandas' in sys.modules:\n",
        "    print(\"Well done! Pandas was imported successfully\")\n",
        "else:\n",
        "    print(\"Pandas was not imported. Try again\")\n"
      ]
    },
    {
      "cell_type": "markdown",
      "metadata": {
        "id": "EGrlROl4VbTh"
      },
      "source": [
        "## Step 2a: Open the data\n",
        "\n",
        "Our data is in a text file at `insurance.csv`.\n",
        "\n",
        "We want to:\n",
        "* open it with a function called `read_csv()` which is inside `pandas`\n",
        "* store it it in a variable called `data`.\n",
        "\n",
        "### Instructions\n",
        "1. Upload the file from your computer (in the data) folders called `insurance.csv`\n",
        "1. Replace question marks with code so that you open `insurance.csv` using pandas, and store it to something called `data`\n",
        "1. Run the cell\n",
        "\n",
        "### Hints\n",
        "* To use a method in a package, you write the package name, then a fullstop, then the method name. For example, if my package is called `my_package` and the method is called `read_file` I would write `my_package.read_file()`\n",
        "* Remember that `\"insurance.csv\"` needs to be in quotes \"\" because it's a string\n",
        "* Look at previous notebooks to remind yourself how this was done before. These old notebooks might say `, sep=\"\\t\"` or similar. You should not write that in this case.\n",
        "* Make sure your variable is called `data` (all lower case letters)\n",
        "* If you get an error, try to read what it says for a hint on what's wrong"
      ]
    },
    {
      "cell_type": "code",
      "execution_count": 4,
      "metadata": {
        "id": "oYj27SGHVbTh",
        "outputId": "09bad942-bee9-4e95-bf28-55cda50c5114",
        "colab": {
          "base_uri": "https://localhost:8080/"
        }
      },
      "outputs": [
        {
          "output_type": "stream",
          "name": "stdout",
          "text": [
            "Well done! You opened the file\n"
          ]
        }
      ],
      "source": [
        "# the insurance dataset is loaded using panda's read_csv using data as the variable\n",
        "\n",
        "data = pandas.read_csv(\"insurance.csv\")\n",
        "\n",
        "\n",
        "# ===========================================================\n",
        "# You can ignore the code below. It will simply check your code\n",
        "if 'data' in locals() and type(data) is pandas.DataFrame:\n",
        "    if data.size == 520:\n",
        "        print(\"It looks like you opened the wrong file\")\n",
        "    else:\n",
        "        print(\"Well done! You opened the file\")\n",
        "else:\n",
        "    print(\"Not quite right! Try again\")\n"
      ]
    },
    {
      "cell_type": "markdown",
      "metadata": {
        "id": "VLdEbchjVbTh"
      },
      "source": [
        "## Step 2b: Look at the data as a table\n",
        "\n",
        "Let's take a look at the dataframe you've made, as a table.\n",
        "\n",
        "In Jupyter notebooks there are two easier ways to do this:\n",
        "* By writing the name of the variable at the end of a cell\n",
        "* By using `print()` to print your variable\n",
        "\n",
        "### Instructions\n",
        "1. In the cell below, use one of these methods in order to print out the pandas dataframe you've just made\n",
        "1. Run the cell and take a look at the data you have\n",
        "1. Make sure the table has printed out before you continue\n",
        "\n",
        "### Hint:\n",
        "* You only need to write one word to do this! You wrote the name of your table in the last cell\n",
        "* It will not print the entire table, just a handful of rows. This is ok."
      ]
    },
    {
      "cell_type": "code",
      "execution_count": 5,
      "metadata": {
        "id": "um-EBvZzVbTi",
        "outputId": "800aa096-f530-4559-e016-4498d4a59fd7",
        "colab": {
          "base_uri": "https://localhost:8080/",
          "height": 424
        }
      },
      "outputs": [
        {
          "output_type": "execute_result",
          "data": {
            "text/plain": [
              "      age     sex     bmi  children smoker     region      charges\n",
              "0      19  female  27.900         0    yes  southwest  16884.92400\n",
              "1      18    male  33.770         1     no  southeast   1725.55230\n",
              "2      28    male  33.000         3     no  southeast   4449.46200\n",
              "3      33    male  22.705         0     no  northwest  21984.47061\n",
              "4      32    male  28.880         0     no  northwest   3866.85520\n",
              "...   ...     ...     ...       ...    ...        ...          ...\n",
              "1333   50    male  30.970         3     no  northwest  10600.54830\n",
              "1334   18  female  31.920         0     no  northeast   2205.98080\n",
              "1335   18  female  36.850         0     no  southeast   1629.83350\n",
              "1336   21  female  25.800         0     no  southwest   2007.94500\n",
              "1337   61  female  29.070         0    yes  northwest  29141.36030\n",
              "\n",
              "[1338 rows x 7 columns]"
            ],
            "text/html": [
              "\n",
              "  <div id=\"df-f12d6ed6-f5b6-492e-9df6-514d4fa32493\" class=\"colab-df-container\">\n",
              "    <div>\n",
              "<style scoped>\n",
              "    .dataframe tbody tr th:only-of-type {\n",
              "        vertical-align: middle;\n",
              "    }\n",
              "\n",
              "    .dataframe tbody tr th {\n",
              "        vertical-align: top;\n",
              "    }\n",
              "\n",
              "    .dataframe thead th {\n",
              "        text-align: right;\n",
              "    }\n",
              "</style>\n",
              "<table border=\"1\" class=\"dataframe\">\n",
              "  <thead>\n",
              "    <tr style=\"text-align: right;\">\n",
              "      <th></th>\n",
              "      <th>age</th>\n",
              "      <th>sex</th>\n",
              "      <th>bmi</th>\n",
              "      <th>children</th>\n",
              "      <th>smoker</th>\n",
              "      <th>region</th>\n",
              "      <th>charges</th>\n",
              "    </tr>\n",
              "  </thead>\n",
              "  <tbody>\n",
              "    <tr>\n",
              "      <th>0</th>\n",
              "      <td>19</td>\n",
              "      <td>female</td>\n",
              "      <td>27.900</td>\n",
              "      <td>0</td>\n",
              "      <td>yes</td>\n",
              "      <td>southwest</td>\n",
              "      <td>16884.92400</td>\n",
              "    </tr>\n",
              "    <tr>\n",
              "      <th>1</th>\n",
              "      <td>18</td>\n",
              "      <td>male</td>\n",
              "      <td>33.770</td>\n",
              "      <td>1</td>\n",
              "      <td>no</td>\n",
              "      <td>southeast</td>\n",
              "      <td>1725.55230</td>\n",
              "    </tr>\n",
              "    <tr>\n",
              "      <th>2</th>\n",
              "      <td>28</td>\n",
              "      <td>male</td>\n",
              "      <td>33.000</td>\n",
              "      <td>3</td>\n",
              "      <td>no</td>\n",
              "      <td>southeast</td>\n",
              "      <td>4449.46200</td>\n",
              "    </tr>\n",
              "    <tr>\n",
              "      <th>3</th>\n",
              "      <td>33</td>\n",
              "      <td>male</td>\n",
              "      <td>22.705</td>\n",
              "      <td>0</td>\n",
              "      <td>no</td>\n",
              "      <td>northwest</td>\n",
              "      <td>21984.47061</td>\n",
              "    </tr>\n",
              "    <tr>\n",
              "      <th>4</th>\n",
              "      <td>32</td>\n",
              "      <td>male</td>\n",
              "      <td>28.880</td>\n",
              "      <td>0</td>\n",
              "      <td>no</td>\n",
              "      <td>northwest</td>\n",
              "      <td>3866.85520</td>\n",
              "    </tr>\n",
              "    <tr>\n",
              "      <th>...</th>\n",
              "      <td>...</td>\n",
              "      <td>...</td>\n",
              "      <td>...</td>\n",
              "      <td>...</td>\n",
              "      <td>...</td>\n",
              "      <td>...</td>\n",
              "      <td>...</td>\n",
              "    </tr>\n",
              "    <tr>\n",
              "      <th>1333</th>\n",
              "      <td>50</td>\n",
              "      <td>male</td>\n",
              "      <td>30.970</td>\n",
              "      <td>3</td>\n",
              "      <td>no</td>\n",
              "      <td>northwest</td>\n",
              "      <td>10600.54830</td>\n",
              "    </tr>\n",
              "    <tr>\n",
              "      <th>1334</th>\n",
              "      <td>18</td>\n",
              "      <td>female</td>\n",
              "      <td>31.920</td>\n",
              "      <td>0</td>\n",
              "      <td>no</td>\n",
              "      <td>northeast</td>\n",
              "      <td>2205.98080</td>\n",
              "    </tr>\n",
              "    <tr>\n",
              "      <th>1335</th>\n",
              "      <td>18</td>\n",
              "      <td>female</td>\n",
              "      <td>36.850</td>\n",
              "      <td>0</td>\n",
              "      <td>no</td>\n",
              "      <td>southeast</td>\n",
              "      <td>1629.83350</td>\n",
              "    </tr>\n",
              "    <tr>\n",
              "      <th>1336</th>\n",
              "      <td>21</td>\n",
              "      <td>female</td>\n",
              "      <td>25.800</td>\n",
              "      <td>0</td>\n",
              "      <td>no</td>\n",
              "      <td>southwest</td>\n",
              "      <td>2007.94500</td>\n",
              "    </tr>\n",
              "    <tr>\n",
              "      <th>1337</th>\n",
              "      <td>61</td>\n",
              "      <td>female</td>\n",
              "      <td>29.070</td>\n",
              "      <td>0</td>\n",
              "      <td>yes</td>\n",
              "      <td>northwest</td>\n",
              "      <td>29141.36030</td>\n",
              "    </tr>\n",
              "  </tbody>\n",
              "</table>\n",
              "<p>1338 rows × 7 columns</p>\n",
              "</div>\n",
              "    <div class=\"colab-df-buttons\">\n",
              "\n",
              "  <div class=\"colab-df-container\">\n",
              "    <button class=\"colab-df-convert\" onclick=\"convertToInteractive('df-f12d6ed6-f5b6-492e-9df6-514d4fa32493')\"\n",
              "            title=\"Convert this dataframe to an interactive table.\"\n",
              "            style=\"display:none;\">\n",
              "\n",
              "  <svg xmlns=\"http://www.w3.org/2000/svg\" height=\"24px\" viewBox=\"0 -960 960 960\">\n",
              "    <path d=\"M120-120v-720h720v720H120Zm60-500h600v-160H180v160Zm220 220h160v-160H400v160Zm0 220h160v-160H400v160ZM180-400h160v-160H180v160Zm440 0h160v-160H620v160ZM180-180h160v-160H180v160Zm440 0h160v-160H620v160Z\"/>\n",
              "  </svg>\n",
              "    </button>\n",
              "\n",
              "  <style>\n",
              "    .colab-df-container {\n",
              "      display:flex;\n",
              "      gap: 12px;\n",
              "    }\n",
              "\n",
              "    .colab-df-convert {\n",
              "      background-color: #E8F0FE;\n",
              "      border: none;\n",
              "      border-radius: 50%;\n",
              "      cursor: pointer;\n",
              "      display: none;\n",
              "      fill: #1967D2;\n",
              "      height: 32px;\n",
              "      padding: 0 0 0 0;\n",
              "      width: 32px;\n",
              "    }\n",
              "\n",
              "    .colab-df-convert:hover {\n",
              "      background-color: #E2EBFA;\n",
              "      box-shadow: 0px 1px 2px rgba(60, 64, 67, 0.3), 0px 1px 3px 1px rgba(60, 64, 67, 0.15);\n",
              "      fill: #174EA6;\n",
              "    }\n",
              "\n",
              "    .colab-df-buttons div {\n",
              "      margin-bottom: 4px;\n",
              "    }\n",
              "\n",
              "    [theme=dark] .colab-df-convert {\n",
              "      background-color: #3B4455;\n",
              "      fill: #D2E3FC;\n",
              "    }\n",
              "\n",
              "    [theme=dark] .colab-df-convert:hover {\n",
              "      background-color: #434B5C;\n",
              "      box-shadow: 0px 1px 3px 1px rgba(0, 0, 0, 0.15);\n",
              "      filter: drop-shadow(0px 1px 2px rgba(0, 0, 0, 0.3));\n",
              "      fill: #FFFFFF;\n",
              "    }\n",
              "  </style>\n",
              "\n",
              "    <script>\n",
              "      const buttonEl =\n",
              "        document.querySelector('#df-f12d6ed6-f5b6-492e-9df6-514d4fa32493 button.colab-df-convert');\n",
              "      buttonEl.style.display =\n",
              "        google.colab.kernel.accessAllowed ? 'block' : 'none';\n",
              "\n",
              "      async function convertToInteractive(key) {\n",
              "        const element = document.querySelector('#df-f12d6ed6-f5b6-492e-9df6-514d4fa32493');\n",
              "        const dataTable =\n",
              "          await google.colab.kernel.invokeFunction('convertToInteractive',\n",
              "                                                    [key], {});\n",
              "        if (!dataTable) return;\n",
              "\n",
              "        const docLinkHtml = 'Like what you see? Visit the ' +\n",
              "          '<a target=\"_blank\" href=https://colab.research.google.com/notebooks/data_table.ipynb>data table notebook</a>'\n",
              "          + ' to learn more about interactive tables.';\n",
              "        element.innerHTML = '';\n",
              "        dataTable['output_type'] = 'display_data';\n",
              "        await google.colab.output.renderOutput(dataTable, element);\n",
              "        const docLink = document.createElement('div');\n",
              "        docLink.innerHTML = docLinkHtml;\n",
              "        element.appendChild(docLink);\n",
              "      }\n",
              "    </script>\n",
              "  </div>\n",
              "\n",
              "\n",
              "<div id=\"df-517f657f-4d4b-4885-9445-e1b94ebb8d6b\">\n",
              "  <button class=\"colab-df-quickchart\" onclick=\"quickchart('df-517f657f-4d4b-4885-9445-e1b94ebb8d6b')\"\n",
              "            title=\"Suggest charts.\"\n",
              "            style=\"display:none;\">\n",
              "\n",
              "<svg xmlns=\"http://www.w3.org/2000/svg\" height=\"24px\"viewBox=\"0 0 24 24\"\n",
              "     width=\"24px\">\n",
              "    <g>\n",
              "        <path d=\"M19 3H5c-1.1 0-2 .9-2 2v14c0 1.1.9 2 2 2h14c1.1 0 2-.9 2-2V5c0-1.1-.9-2-2-2zM9 17H7v-7h2v7zm4 0h-2V7h2v10zm4 0h-2v-4h2v4z\"/>\n",
              "    </g>\n",
              "</svg>\n",
              "  </button>\n",
              "\n",
              "<style>\n",
              "  .colab-df-quickchart {\n",
              "    background-color: #E8F0FE;\n",
              "    border: none;\n",
              "    border-radius: 50%;\n",
              "    cursor: pointer;\n",
              "    display: none;\n",
              "    fill: #1967D2;\n",
              "    height: 32px;\n",
              "    padding: 0 0 0 0;\n",
              "    width: 32px;\n",
              "  }\n",
              "\n",
              "  .colab-df-quickchart:hover {\n",
              "    background-color: #E2EBFA;\n",
              "    box-shadow: 0px 1px 2px rgba(60, 64, 67, 0.3), 0px 1px 3px 1px rgba(60, 64, 67, 0.15);\n",
              "    fill: #174EA6;\n",
              "  }\n",
              "\n",
              "  [theme=dark] .colab-df-quickchart {\n",
              "    background-color: #3B4455;\n",
              "    fill: #D2E3FC;\n",
              "  }\n",
              "\n",
              "  [theme=dark] .colab-df-quickchart:hover {\n",
              "    background-color: #434B5C;\n",
              "    box-shadow: 0px 1px 3px 1px rgba(0, 0, 0, 0.15);\n",
              "    filter: drop-shadow(0px 1px 2px rgba(0, 0, 0, 0.3));\n",
              "    fill: #FFFFFF;\n",
              "  }\n",
              "</style>\n",
              "\n",
              "  <script>\n",
              "    async function quickchart(key) {\n",
              "      const charts = await google.colab.kernel.invokeFunction(\n",
              "          'suggestCharts', [key], {});\n",
              "    }\n",
              "    (() => {\n",
              "      let quickchartButtonEl =\n",
              "        document.querySelector('#df-517f657f-4d4b-4885-9445-e1b94ebb8d6b button');\n",
              "      quickchartButtonEl.style.display =\n",
              "        google.colab.kernel.accessAllowed ? 'block' : 'none';\n",
              "    })();\n",
              "  </script>\n",
              "</div>\n",
              "    </div>\n",
              "  </div>\n"
            ]
          },
          "metadata": {},
          "execution_count": 5
        }
      ],
      "source": [
        "#Here we print the data variable to inspect the data set (and to find the features and labels)\n",
        "#print(data)\n",
        "data ## for formatting only in google collab"
      ]
    },
    {
      "cell_type": "code",
      "source": [
        "data.describe()"
      ],
      "metadata": {
        "id": "jdmKfpwLLhl6",
        "outputId": "fec8199a-b40d-4ea6-fef6-aec8f42d053b",
        "colab": {
          "base_uri": "https://localhost:8080/",
          "height": 300
        }
      },
      "execution_count": 9,
      "outputs": [
        {
          "output_type": "execute_result",
          "data": {
            "text/plain": [
              "               age          bmi     children       charges\n",
              "count  1338.000000  1338.000000  1338.000000   1338.000000\n",
              "mean     39.207025    30.663397     1.094918  13270.422265\n",
              "std      14.049960     6.098187     1.205493  12110.011237\n",
              "min      18.000000    15.960000     0.000000   1121.873900\n",
              "25%      27.000000    26.296250     0.000000   4740.287150\n",
              "50%      39.000000    30.400000     1.000000   9382.033000\n",
              "75%      51.000000    34.693750     2.000000  16639.912515\n",
              "max      64.000000    53.130000     5.000000  63770.428010"
            ],
            "text/html": [
              "\n",
              "  <div id=\"df-68bda84e-03e8-4651-9e8d-e18fa815afe6\" class=\"colab-df-container\">\n",
              "    <div>\n",
              "<style scoped>\n",
              "    .dataframe tbody tr th:only-of-type {\n",
              "        vertical-align: middle;\n",
              "    }\n",
              "\n",
              "    .dataframe tbody tr th {\n",
              "        vertical-align: top;\n",
              "    }\n",
              "\n",
              "    .dataframe thead th {\n",
              "        text-align: right;\n",
              "    }\n",
              "</style>\n",
              "<table border=\"1\" class=\"dataframe\">\n",
              "  <thead>\n",
              "    <tr style=\"text-align: right;\">\n",
              "      <th></th>\n",
              "      <th>age</th>\n",
              "      <th>bmi</th>\n",
              "      <th>children</th>\n",
              "      <th>charges</th>\n",
              "    </tr>\n",
              "  </thead>\n",
              "  <tbody>\n",
              "    <tr>\n",
              "      <th>count</th>\n",
              "      <td>1338.000000</td>\n",
              "      <td>1338.000000</td>\n",
              "      <td>1338.000000</td>\n",
              "      <td>1338.000000</td>\n",
              "    </tr>\n",
              "    <tr>\n",
              "      <th>mean</th>\n",
              "      <td>39.207025</td>\n",
              "      <td>30.663397</td>\n",
              "      <td>1.094918</td>\n",
              "      <td>13270.422265</td>\n",
              "    </tr>\n",
              "    <tr>\n",
              "      <th>std</th>\n",
              "      <td>14.049960</td>\n",
              "      <td>6.098187</td>\n",
              "      <td>1.205493</td>\n",
              "      <td>12110.011237</td>\n",
              "    </tr>\n",
              "    <tr>\n",
              "      <th>min</th>\n",
              "      <td>18.000000</td>\n",
              "      <td>15.960000</td>\n",
              "      <td>0.000000</td>\n",
              "      <td>1121.873900</td>\n",
              "    </tr>\n",
              "    <tr>\n",
              "      <th>25%</th>\n",
              "      <td>27.000000</td>\n",
              "      <td>26.296250</td>\n",
              "      <td>0.000000</td>\n",
              "      <td>4740.287150</td>\n",
              "    </tr>\n",
              "    <tr>\n",
              "      <th>50%</th>\n",
              "      <td>39.000000</td>\n",
              "      <td>30.400000</td>\n",
              "      <td>1.000000</td>\n",
              "      <td>9382.033000</td>\n",
              "    </tr>\n",
              "    <tr>\n",
              "      <th>75%</th>\n",
              "      <td>51.000000</td>\n",
              "      <td>34.693750</td>\n",
              "      <td>2.000000</td>\n",
              "      <td>16639.912515</td>\n",
              "    </tr>\n",
              "    <tr>\n",
              "      <th>max</th>\n",
              "      <td>64.000000</td>\n",
              "      <td>53.130000</td>\n",
              "      <td>5.000000</td>\n",
              "      <td>63770.428010</td>\n",
              "    </tr>\n",
              "  </tbody>\n",
              "</table>\n",
              "</div>\n",
              "    <div class=\"colab-df-buttons\">\n",
              "\n",
              "  <div class=\"colab-df-container\">\n",
              "    <button class=\"colab-df-convert\" onclick=\"convertToInteractive('df-68bda84e-03e8-4651-9e8d-e18fa815afe6')\"\n",
              "            title=\"Convert this dataframe to an interactive table.\"\n",
              "            style=\"display:none;\">\n",
              "\n",
              "  <svg xmlns=\"http://www.w3.org/2000/svg\" height=\"24px\" viewBox=\"0 -960 960 960\">\n",
              "    <path d=\"M120-120v-720h720v720H120Zm60-500h600v-160H180v160Zm220 220h160v-160H400v160Zm0 220h160v-160H400v160ZM180-400h160v-160H180v160Zm440 0h160v-160H620v160ZM180-180h160v-160H180v160Zm440 0h160v-160H620v160Z\"/>\n",
              "  </svg>\n",
              "    </button>\n",
              "\n",
              "  <style>\n",
              "    .colab-df-container {\n",
              "      display:flex;\n",
              "      gap: 12px;\n",
              "    }\n",
              "\n",
              "    .colab-df-convert {\n",
              "      background-color: #E8F0FE;\n",
              "      border: none;\n",
              "      border-radius: 50%;\n",
              "      cursor: pointer;\n",
              "      display: none;\n",
              "      fill: #1967D2;\n",
              "      height: 32px;\n",
              "      padding: 0 0 0 0;\n",
              "      width: 32px;\n",
              "    }\n",
              "\n",
              "    .colab-df-convert:hover {\n",
              "      background-color: #E2EBFA;\n",
              "      box-shadow: 0px 1px 2px rgba(60, 64, 67, 0.3), 0px 1px 3px 1px rgba(60, 64, 67, 0.15);\n",
              "      fill: #174EA6;\n",
              "    }\n",
              "\n",
              "    .colab-df-buttons div {\n",
              "      margin-bottom: 4px;\n",
              "    }\n",
              "\n",
              "    [theme=dark] .colab-df-convert {\n",
              "      background-color: #3B4455;\n",
              "      fill: #D2E3FC;\n",
              "    }\n",
              "\n",
              "    [theme=dark] .colab-df-convert:hover {\n",
              "      background-color: #434B5C;\n",
              "      box-shadow: 0px 1px 3px 1px rgba(0, 0, 0, 0.15);\n",
              "      filter: drop-shadow(0px 1px 2px rgba(0, 0, 0, 0.3));\n",
              "      fill: #FFFFFF;\n",
              "    }\n",
              "  </style>\n",
              "\n",
              "    <script>\n",
              "      const buttonEl =\n",
              "        document.querySelector('#df-68bda84e-03e8-4651-9e8d-e18fa815afe6 button.colab-df-convert');\n",
              "      buttonEl.style.display =\n",
              "        google.colab.kernel.accessAllowed ? 'block' : 'none';\n",
              "\n",
              "      async function convertToInteractive(key) {\n",
              "        const element = document.querySelector('#df-68bda84e-03e8-4651-9e8d-e18fa815afe6');\n",
              "        const dataTable =\n",
              "          await google.colab.kernel.invokeFunction('convertToInteractive',\n",
              "                                                    [key], {});\n",
              "        if (!dataTable) return;\n",
              "\n",
              "        const docLinkHtml = 'Like what you see? Visit the ' +\n",
              "          '<a target=\"_blank\" href=https://colab.research.google.com/notebooks/data_table.ipynb>data table notebook</a>'\n",
              "          + ' to learn more about interactive tables.';\n",
              "        element.innerHTML = '';\n",
              "        dataTable['output_type'] = 'display_data';\n",
              "        await google.colab.output.renderOutput(dataTable, element);\n",
              "        const docLink = document.createElement('div');\n",
              "        docLink.innerHTML = docLinkHtml;\n",
              "        element.appendChild(docLink);\n",
              "      }\n",
              "    </script>\n",
              "  </div>\n",
              "\n",
              "\n",
              "<div id=\"df-5df8027a-0461-4e22-917b-d7dd8eb28434\">\n",
              "  <button class=\"colab-df-quickchart\" onclick=\"quickchart('df-5df8027a-0461-4e22-917b-d7dd8eb28434')\"\n",
              "            title=\"Suggest charts.\"\n",
              "            style=\"display:none;\">\n",
              "\n",
              "<svg xmlns=\"http://www.w3.org/2000/svg\" height=\"24px\"viewBox=\"0 0 24 24\"\n",
              "     width=\"24px\">\n",
              "    <g>\n",
              "        <path d=\"M19 3H5c-1.1 0-2 .9-2 2v14c0 1.1.9 2 2 2h14c1.1 0 2-.9 2-2V5c0-1.1-.9-2-2-2zM9 17H7v-7h2v7zm4 0h-2V7h2v10zm4 0h-2v-4h2v4z\"/>\n",
              "    </g>\n",
              "</svg>\n",
              "  </button>\n",
              "\n",
              "<style>\n",
              "  .colab-df-quickchart {\n",
              "    background-color: #E8F0FE;\n",
              "    border: none;\n",
              "    border-radius: 50%;\n",
              "    cursor: pointer;\n",
              "    display: none;\n",
              "    fill: #1967D2;\n",
              "    height: 32px;\n",
              "    padding: 0 0 0 0;\n",
              "    width: 32px;\n",
              "  }\n",
              "\n",
              "  .colab-df-quickchart:hover {\n",
              "    background-color: #E2EBFA;\n",
              "    box-shadow: 0px 1px 2px rgba(60, 64, 67, 0.3), 0px 1px 3px 1px rgba(60, 64, 67, 0.15);\n",
              "    fill: #174EA6;\n",
              "  }\n",
              "\n",
              "  [theme=dark] .colab-df-quickchart {\n",
              "    background-color: #3B4455;\n",
              "    fill: #D2E3FC;\n",
              "  }\n",
              "\n",
              "  [theme=dark] .colab-df-quickchart:hover {\n",
              "    background-color: #434B5C;\n",
              "    box-shadow: 0px 1px 3px 1px rgba(0, 0, 0, 0.15);\n",
              "    filter: drop-shadow(0px 1px 2px rgba(0, 0, 0, 0.3));\n",
              "    fill: #FFFFFF;\n",
              "  }\n",
              "</style>\n",
              "\n",
              "  <script>\n",
              "    async function quickchart(key) {\n",
              "      const charts = await google.colab.kernel.invokeFunction(\n",
              "          'suggestCharts', [key], {});\n",
              "    }\n",
              "    (() => {\n",
              "      let quickchartButtonEl =\n",
              "        document.querySelector('#df-5df8027a-0461-4e22-917b-d7dd8eb28434 button');\n",
              "      quickchartButtonEl.style.display =\n",
              "        google.colab.kernel.accessAllowed ? 'block' : 'none';\n",
              "    })();\n",
              "  </script>\n",
              "</div>\n",
              "    </div>\n",
              "  </div>\n"
            ]
          },
          "metadata": {},
          "execution_count": 9
        }
      ]
    },
    {
      "cell_type": "markdown",
      "metadata": {
        "id": "u-DQriw7VbTi"
      },
      "source": [
        "## Step 3a: Graph some data - import graphing\n",
        "\n",
        "The first thing we are interested in is whether older people pay more for health insurance than younger people.\n",
        "\n",
        "We will start by graphing the data we have. To do this, we first need the course's `graphing` package.\n",
        "\n",
        "### Instructions\n",
        "1. In the cell below, write code that will import the package called `graphing`\n",
        "1. Run the cell\n",
        "\n",
        "### Hints\n",
        "* This will be very similar to when you imported pandas, except this time the package is called `graphing`\n",
        "* `graphing` is entirely lower case"
      ]
    },
    {
      "cell_type": "code",
      "source": [
        "# Please execute this cell. It downloads a file called graphing for us to easily use graphing\n",
        "!wget https://raw.githubusercontent.com/TomReidNZ/QRC_Datasets/main/graphing.py"
      ],
      "metadata": {
        "id": "TFTERY7WtWAh",
        "outputId": "845ac7bf-9027-4bd3-a0a6-d57a6ba67065",
        "colab": {
          "base_uri": "https://localhost:8080/"
        }
      },
      "execution_count": 12,
      "outputs": [
        {
          "output_type": "stream",
          "name": "stdout",
          "text": [
            "--2023-08-28 22:11:31--  https://raw.githubusercontent.com/TomReidNZ/QRC_Datasets/main/graphing.py\n",
            "Resolving raw.githubusercontent.com (raw.githubusercontent.com)... 185.199.108.133, 185.199.109.133, 185.199.110.133, ...\n",
            "Connecting to raw.githubusercontent.com (raw.githubusercontent.com)|185.199.108.133|:443... connected.\n",
            "HTTP request sent, awaiting response... 200 OK\n",
            "Length: 18769 (18K) [text/plain]\n",
            "Saving to: ‘graphing.py’\n",
            "\n",
            "\rgraphing.py           0%[                    ]       0  --.-KB/s               \rgraphing.py         100%[===================>]  18.33K  --.-KB/s    in 0s      \n",
            "\n",
            "2023-08-28 22:11:31 (71.9 MB/s) - ‘graphing.py’ saved [18769/18769]\n",
            "\n"
          ]
        }
      ]
    },
    {
      "cell_type": "code",
      "execution_count": 13,
      "metadata": {
        "id": "C6dkkrp-VbTi",
        "outputId": "9420d0b3-0a46-46f4-d53d-dc75479c7f8e",
        "colab": {
          "base_uri": "https://localhost:8080/"
        }
      },
      "outputs": [
        {
          "output_type": "stream",
          "name": "stdout",
          "text": [
            "Well done! Graphing was imported successfully\n"
          ]
        }
      ],
      "source": [
        "# Replace the question marks with code that will import graphing\n",
        "import graphing\n",
        "\n",
        "# ===========================================================\n",
        "# You can ignore the code below. It will simply check your code\n",
        "if 'graphing' in sys.modules:\n",
        "    print(\"Well done! Graphing was imported successfully\")\n",
        "else:\n",
        "    print(\"Graphing was not imported. Try again\")\n"
      ]
    },
    {
      "cell_type": "markdown",
      "metadata": {
        "id": "OShbCQEpVbTi"
      },
      "source": [
        "## Step 3b: Graph some data\n",
        "\n",
        "Time to see whether older people pay more for health insurance than younger people.\n",
        "\n",
        "Let's make a scatter plot with age on the x axis and charges on the y axis\n",
        "\n",
        "### Instructions\n",
        "\n",
        "1. Look at the print out of your table above. Notice that we have the feature `age` and the label `charges`\n",
        "1. In the cell below, replace the left-most question mark with the name of the variable holding our table of data\n",
        "1. Replace the second set of question marks with the name of our feature (`age`)\n",
        "1. Replace the final set of question marks with the name of our label (`charges`)\n",
        "1. Give the graph a better title\n",
        "1. Run the cell\n",
        "1. Look at the graph. Do prices seem to change much with age?\n",
        "\n",
        "### Hints\n",
        "* You just used the name of the data table in the previous step\n",
        "* `label_x`, `label_y`, and `title` need strings, so what you write will need to be in quotes \"\". For example `label_x=\"bmi\"`"
      ]
    },
    {
      "cell_type": "code",
      "execution_count": 14,
      "metadata": {
        "id": "EBUHPMutVbTj",
        "outputId": "eb9f7354-b1be-45f6-83d6-28837144fe25",
        "colab": {
          "base_uri": "https://localhost:8080/",
          "height": 417
        }
      },
      "outputs": [
        {
          "output_type": "display_data",
          "data": {
            "text/html": [
              "<html>\n",
              "<head><meta charset=\"utf-8\" /></head>\n",
              "<body>\n",
              "    <div>            <script src=\"https://cdnjs.cloudflare.com/ajax/libs/mathjax/2.7.5/MathJax.js?config=TeX-AMS-MML_SVG\"></script><script type=\"text/javascript\">if (window.MathJax && window.MathJax.Hub && window.MathJax.Hub.Config) {window.MathJax.Hub.Config({SVG: {font: \"STIX-Web\"}});}</script>                <script type=\"text/javascript\">window.PlotlyConfig = {MathJaxConfig: 'local'};</script>\n",
              "        <script charset=\"utf-8\" src=\"https://cdn.plot.ly/plotly-2.24.1.min.js\"></script>                <div id=\"e49d0b0d-e76a-4fea-a41c-feea4372d3d1\" class=\"plotly-graph-div\" style=\"height:400px; width:100%;\"></div>            <script type=\"text/javascript\">                                    window.PLOTLYENV=window.PLOTLYENV || {};                                    if (document.getElementById(\"e49d0b0d-e76a-4fea-a41c-feea4372d3d1\")) {                    Plotly.newPlot(                        \"e49d0b0d-e76a-4fea-a41c-feea4372d3d1\",                        [{\"hovertemplate\":\"age=%{x}\\u003cbr\\u003echarges=%{y}\\u003cextra\\u003e\\u003c\\u002fextra\\u003e\",\"legendgroup\":\"\",\"marker\":{\"color\":\"#636efa\",\"symbol\":\"circle\",\"size\":3},\"mode\":\"markers\",\"name\":\"\",\"showlegend\":false,\"x\":[19,18,28,33,32,31,46,37,37,60,25,62,23,56,27,19,52,23,56,30,60,30,18,34,37,59,63,55,23,31,22,18,19,63,28,19,62,26,35,60,24,31,41,37,38,55,18,28,60,36,18,21,48,36,40,58,58,18,53,34,43,25,64,28,20,19,61,40,40,28,27,31,53,58,44,57,29,21,22,41,31,45,22,48,37,45,57,56,46,55,21,53,59,35,64,28,54,55,56,38,41,30,18,61,34,20,19,26,29,63,54,55,37,21,52,60,58,29,49,37,44,18,20,44,47,26,19,52,32,38,59,61,53,19,20,22,19,22,54,22,34,26,34,29,30,29,46,51,53,19,35,48,32,42,40,44,48,18,30,50,42,18,54,32,37,47,20,32,19,27,63,49,18,35,24,63,38,54,46,41,58,18,22,44,44,36,26,30,41,29,61,36,25,56,18,19,39,45,51,64,19,48,60,27,46,28,59,35,63,40,20,40,24,34,45,41,53,27,26,24,34,53,32,19,42,55,28,58,41,47,42,59,19,59,39,40,18,31,19,44,23,33,55,40,63,54,60,24,19,29,18,63,54,27,50,55,56,38,51,19,58,20,52,19,53,46,40,59,45,49,18,50,41,50,25,47,19,22,59,51,40,54,30,55,52,46,46,63,59,52,28,29,25,22,25,18,19,47,31,48,36,53,56,28,57,29,28,30,58,41,50,19,43,49,27,52,50,54,44,32,34,26,34,57,29,40,27,45,64,52,61,52,61,56,43,64,60,62,50,46,24,62,60,63,49,34,33,46,36,19,57,50,30,33,18,46,46,47,23,18,48,35,19,21,21,49,56,42,44,18,61,57,42,26,20,23,39,24,64,62,27,55,55,35,44,19,58,50,26,24,48,19,48,49,46,46,43,21,64,18,51,47,64,49,31,52,33,47,38,32,19,44,26,25,19,43,52,36,64,63,64,61,40,25,48,45,38,18,21,27,19,29,42,60,31,60,22,35,52,26,31,33,18,59,56,45,60,56,40,35,39,30,24,20,32,59,55,57,56,40,49,42,62,56,19,30,60,56,28,18,27,18,19,47,54,61,24,25,21,23,63,49,18,51,48,31,54,19,44,53,19,61,18,61,21,20,31,45,44,62,29,43,51,19,38,37,22,21,24,57,56,27,51,19,39,58,20,45,35,31,50,32,51,38,42,18,19,51,46,18,57,62,59,37,64,38,33,46,46,53,34,20,63,54,54,49,28,54,25,43,63,32,62,52,25,28,46,34,35,19,46,54,27,50,18,19,38,41,49,48,31,18,30,62,57,58,22,31,52,25,59,19,39,32,19,33,21,34,61,38,58,47,20,21,41,46,42,34,43,52,18,51,56,64,19,51,27,59,28,30,47,38,18,34,20,47,56,49,19,55,30,37,49,18,59,29,36,33,58,44,53,24,29,40,51,64,19,35,39,56,33,42,61,23,43,48,39,40,18,58,49,53,48,45,59,52,26,27,48,57,37,57,32,18,64,43,49,40,62,40,30,29,36,41,44,45,55,60,56,49,21,19,39,53,33,53,42,40,47,27,21,47,20,24,27,26,53,41,56,23,21,50,53,34,47,33,51,49,31,36,18,50,43,20,24,60,49,60,51,58,51,53,62,19,50,30,41,29,18,41,35,53,24,48,59,49,37,26,23,29,45,27,53,31,50,50,34,19,47,28,37,21,64,58,24,31,39,47,30,18,22,23,33,27,45,57,47,42,64,38,61,53,44,19,41,51,40,45,35,53,30,18,51,50,31,35,60,21,29,62,39,19,22,53,39,27,30,30,58,33,42,64,21,18,23,45,40,19,18,25,46,33,54,28,36,20,24,23,47,33,45,26,18,44,60,64,56,36,41,39,63,36,28,58,36,42,36,56,35,59,21,59,23,57,53,60,51,23,27,55,37,61,46,53,49,20,48,25,25,57,37,38,55,36,51,40,18,57,61,25,50,26,42,43,44,23,49,33,41,37,22,23,21,51,25,32,57,36,22,57,64,36,54,47,62,61,43,19,18,19,49,60,26,49,60,26,27,44,63,32,22,18,59,44,33,24,43,45,61,35,62,62,38,34,43,50,19,57,62,41,26,39,46,45,32,59,44,39,18,53,18,50,18,19,62,56,42,37,42,25,57,51,30,44,34,31,54,24,43,48,19,29,63,46,52,35,51,44,21,39,50,34,22,19,26,29,48,26,45,36,54,34,31,27,20,44,43,45,34,24,26,38,50,38,27,39,39,63,33,36,30,24,24,48,47,29,28,47,25,51,48,43,61,48,38,59,19,26,54,21,51,22,47,18,47,21,19,23,54,37,46,55,30,18,61,54,22,45,22,19,35,18,20,28,55,43,43,22,25,49,44,64,49,47,27,55,48,45,24,32,24,57,59,36,29,42,48,39,63,54,37,63,21,54,60,32,47,21,28,63,18,32,38,32,62,39,55,57,52,56,47,55,23,22,50,18,51,22,52,25,33,53,29,58,37,54,49,50,26,45,54,38,48,28,23,55,41,25,33,30,23,46,53,27,23,63,55,35,34,19,39,27,57,52,28,50,44,26,33,19,50,41,52,39,50,52,60,20,55,42,18,58,43,35,48,36,19,23,20,32,43,34,30,18,41,35,57,29,32,37,18,43,56,38,29,22,52,40,23,31,42,24,25,48,23,45,20,62,43,23,31,41,58,48,31,19,19,41,40,31,37,46,22,51,18,35,59,36,37,59,36,39,18,52,27,18,40,29,46,38,30,40,50,20,41,33,38,42,56,58,52,20,54,58,45,26,63,58,37,25,52,64,22,28,18,28,45,33,18,32,24,19,20,40,34,42,51,54,55,52,32,28,41,43,49,64,55,24,20,45,26,25,43,35,26,57,22,32,39,25,48,47,18,18,61,47,28,36,20,44,38,19,21,46,58,20,18,28,33,19,45,62,25,43,42,24,29,32,25,41,42,33,34,19,30,18,19,18,35,39,31,62,62,42,31,61,42,51,23,52,57,23,52,50,18,18,21,61],\"xaxis\":\"x\",\"y\":[16884.924,1725.5523,4449.462,21984.47061,3866.8552,3756.6216,8240.5896,7281.5056,6406.4107,28923.13692,2721.3208,27808.7251,1826.843,11090.7178,39611.7577,1837.237,10797.3362,2395.17155,10602.385,36837.467,13228.84695,4149.736,1137.011,37701.8768,6203.90175,14001.1338,14451.83515,12268.63225,2775.19215,38711.0,35585.576,2198.18985,4687.797,13770.0979,51194.55914,1625.43375,15612.19335,2302.3,39774.2763,48173.361,3046.062,4949.7587,6272.4772,6313.759,6079.6715,20630.28351,3393.35635,3556.9223,12629.8967,38709.176,2211.13075,3579.8287,23568.272,37742.5757,8059.6791,47496.49445,13607.36875,34303.1672,23244.7902,5989.52365,8606.2174,4504.6624,30166.61817,4133.64165,14711.7438,1743.214,14235.072,6389.37785,5920.1041,17663.1442,16577.7795,6799.458,11741.726,11946.6259,7726.854,11356.6609,3947.4131,1532.4697,2755.02095,6571.02435,4441.21315,7935.29115,37165.1638,11033.6617,39836.519,21098.55405,43578.9394,11073.176,8026.6666,11082.5772,2026.9741,10942.13205,30184.9367,5729.0053,47291.055,3766.8838,12105.32,10226.2842,22412.6485,15820.699,6186.127,3645.0894,21344.8467,30942.1918,5003.853,17560.37975,2331.519,3877.30425,2867.1196,47055.5321,10825.2537,11881.358,4646.759,2404.7338,11488.31695,30259.99556,11381.3254,19107.7796,8601.3293,6686.4313,7740.337,1705.6245,2257.47525,39556.4945,10115.00885,3385.39915,17081.08,9634.538,32734.1863,6082.405,12815.44495,13616.3586,11163.568,1632.56445,2457.21115,2155.6815,1261.442,2045.68525,27322.73386,2166.732,27375.90478,3490.5491,18972.495,18157.876,20745.9891,5138.2567,40720.55105,9877.6077,10959.6947,1842.519,5125.2157,7789.635,6334.34355,19964.7463,7077.1894,6948.7008,21223.6758,15518.18025,36950.2567,19749.38338,21348.706,36149.4835,10450.552,5152.134,5028.1466,10407.08585,4830.63,6128.79745,2719.27975,4827.90495,13405.3903,8116.68,1694.7964,5246.047,2855.43755,48824.45,6455.86265,10436.096,8823.279,8538.28845,11735.87905,1631.8212,4005.4225,7419.4779,7731.4271,43753.33705,3981.9768,5325.651,6775.961,4922.9159,12557.6053,4883.866,2137.6536,12044.342,1137.4697,1639.5631,5649.715,8516.829,9644.2525,14901.5167,2130.6759,8871.1517,13012.20865,37133.8982,7147.105,4337.7352,11743.299,20984.0936,13880.949,6610.1097,1980.07,8162.71625,3537.703,5002.7827,8520.026,7371.772,10355.641,2483.736,3392.9768,25081.76784,5012.471,10564.8845,5253.524,34779.615,19515.5416,11987.1682,2689.4954,24227.33724,7358.17565,9225.2564,7443.64305,14001.2867,1727.785,12333.828,6710.1919,19444.2658,1615.7667,4463.2051,17352.6803,7152.6714,38511.6283,5354.07465,35160.13457,7196.867,29523.1656,24476.47851,12648.7034,1986.9334,1832.094,4040.55825,12829.4551,47305.305,44260.7499,4260.744,41097.16175,13047.33235,43921.1837,5400.9805,11520.09985,33750.2918,11837.16,17085.2676,24869.8368,36219.40545,20462.99766,46151.1245,17179.522,14590.63205,7441.053,9282.4806,1719.4363,42856.838,7265.7025,9617.66245,2523.1695,9715.841,2803.69785,2150.469,12928.7911,9855.1314,22331.5668,48549.17835,4237.12655,11879.10405,9625.92,7742.1098,9432.9253,14256.1928,47896.79135,25992.82104,3172.018,20277.80751,42112.2356,2156.7518,3906.127,1704.5681,16297.846,21978.6769,38746.3551,9249.4952,6746.7425,24873.3849,12265.5069,4349.462,12646.207,19442.3535,20177.67113,4151.0287,11944.59435,7749.1564,8444.474,1737.376,42124.5153,8124.4084,34838.873,9722.7695,8835.26495,10435.06525,7421.19455,4667.60765,4894.7533,24671.66334,35491.64,11566.30055,2866.091,6600.20595,3561.8889,42760.5022,47928.03,9144.565,48517.56315,24393.6224,13429.0354,11658.37915,19144.57652,13822.803,12142.5786,13937.6665,41919.097,8232.6388,18955.22017,13352.0998,13217.0945,13981.85035,10977.2063,6184.2994,4889.9995,8334.45755,5478.0368,1635.73365,11830.6072,8932.084,3554.203,12404.8791,14133.03775,24603.04837,8944.1151,9620.3307,1837.2819,1607.5101,10043.249,4751.07,13844.506,2597.779,3180.5101,9778.3472,13430.265,8017.06115,8116.26885,3481.868,13415.0381,12029.2867,7639.41745,36085.219,1391.5287,18033.9679,21659.9301,38126.2465,16455.70785,27000.98473,15006.57945,42303.69215,20781.48892,5846.9176,8302.53565,1261.859,11856.4115,30284.64294,3176.8159,4618.0799,10736.87075,2138.0707,8964.06055,9290.1395,9411.005,7526.70645,8522.003,16586.49771,14988.432,1631.6683,9264.797,8083.9198,14692.66935,10269.46,3260.199,11396.9002,4185.0979,8539.671,6652.5288,4074.4537,1621.3402,19594.80965,14455.64405,5080.096,2134.9015,7345.7266,9140.951,18608.262,14418.2804,28950.4692,46889.2612,46599.1084,39125.33225,2727.3951,8968.33,9788.8659,6555.07035,7323.734819,3167.45585,18804.7524,23082.95533,4906.40965,5969.723,12638.195,4243.59005,13919.8229,2254.7967,5926.846,12592.5345,2897.3235,4738.2682,37079.372,1149.3959,28287.89766,26109.32905,7345.084,12730.9996,11454.0215,5910.944,4762.329,7512.267,4032.2407,1969.614,1769.53165,4686.3887,21797.0004,11881.9696,11840.77505,10601.412,7682.67,10381.4787,22144.032,15230.32405,11165.41765,1632.03625,19521.9682,13224.693,12643.3778,23288.9284,2201.0971,2497.0383,2203.47185,1744.465,20878.78443,25382.297,28868.6639,35147.52848,2534.39375,1534.3045,1824.2854,15555.18875,9304.7019,1622.1885,9880.068,9563.029,4347.02335,12475.3513,1253.936,48885.13561,10461.9794,1748.774,24513.09126,2196.4732,12574.049,17942.106,1967.0227,4931.647,8027.968,8211.1002,13470.86,36197.699,6837.3687,22218.1149,32548.3405,5974.3847,6796.86325,2643.2685,3077.0955,3044.2133,11455.28,11763.0009,2498.4144,9361.3268,1256.299,21082.16,11362.755,27724.28875,8413.46305,5240.765,3857.75925,25656.57526,3994.1778,9866.30485,5397.6167,38245.59327,11482.63485,24059.68019,9861.025,8342.90875,1708.0014,48675.5177,14043.4767,12925.886,19214.70553,13831.1152,6067.12675,5972.378,8825.086,8233.0975,27346.04207,6196.448,3056.3881,13887.204,63770.42801,10231.4999,23807.2406,3268.84665,11538.421,3213.62205,45863.205,13390.559,3972.9247,12957.118,11187.6567,17878.90068,3847.674,8334.5896,3935.1799,39983.42595,1646.4297,9193.8385,10923.9332,2494.022,9058.7303,2801.2588,2128.43105,6373.55735,7256.7231,11552.904,45702.02235,3761.292,2219.4451,4753.6368,31620.00106,13224.05705,12222.8983,1664.9996,58571.07448,9724.53,3206.49135,12913.9924,1639.5631,6356.2707,17626.23951,1242.816,4779.6023,3861.20965,43943.8761,13635.6379,5976.8311,11842.442,8428.0693,2566.4707,15359.1045,5709.1644,8823.98575,7640.3092,5594.8455,7441.501,33471.97189,1633.0444,9174.13565,11070.535,16085.1275,17468.9839,9283.562,3558.62025,25678.77845,4435.0942,39241.442,8547.6913,6571.544,2207.69745,6753.038,1880.07,42969.8527,11658.11505,23306.547,34439.8559,10713.644,3659.346,40182.246,9182.17,34617.84065,12129.61415,3736.4647,6748.5912,11326.71487,11365.952,42983.4585,10085.846,1977.815,3366.6697,7173.35995,9391.346,14410.9321,2709.1119,24915.04626,20149.3229,12949.1554,6666.243,32787.45859,13143.86485,4466.6214,18806.14547,10141.1362,6123.5688,8252.2843,1712.227,12430.95335,9800.8882,10579.711,8280.6227,8527.532,12244.531,24667.419,3410.324,4058.71245,26392.26029,14394.39815,6435.6237,22192.43711,5148.5526,1136.3994,27037.9141,42560.4304,8703.456,40003.33225,45710.20785,6500.2359,4837.5823,3943.5954,4399.731,6185.3208,46200.9851,7222.78625,12485.8009,46130.5265,12363.547,10156.7832,2585.269,1242.26,40103.89,9863.4718,4766.022,11244.3769,7729.64575,5438.7491,26236.57997,34806.4677,2104.1134,8068.185,2362.22905,2352.96845,3577.999,3201.24515,29186.48236,40273.6455,10976.24575,3500.6123,2020.5523,9541.69555,9504.3103,5385.3379,8930.93455,5375.038,44400.4064,10264.4421,6113.23105,5469.0066,1727.54,10107.2206,8310.83915,1984.4533,2457.502,12146.971,9566.9909,13112.6048,10848.1343,12231.6136,9875.6804,11264.541,12979.358,1263.249,10106.13425,40932.4295,6664.68595,16657.71745,2217.6012,6781.3542,19361.9988,10065.413,4234.927,9447.25035,14007.222,9583.8933,40419.0191,3484.331,36189.1017,44585.45587,8604.48365,18246.4955,43254.41795,3757.8448,8827.2099,9910.35985,11737.84884,1627.28245,8556.907,3062.50825,19539.243,1906.35825,14210.53595,11833.7823,17128.42608,5031.26955,7985.815,23065.4207,5428.7277,36307.7983,3925.7582,2416.955,19040.876,3070.8087,9095.06825,11842.62375,8062.764,7050.642,14319.031,6933.24225,27941.28758,11150.78,12797.20962,17748.5062,7261.741,10560.4917,6986.697,7448.40395,5934.3798,9869.8102,18259.216,1146.7966,9386.1613,24520.264,4350.5144,6414.178,12741.16745,1917.3184,5209.57885,13457.9608,5662.225,1252.407,2731.9122,21195.818,7209.4918,18310.742,4266.1658,4719.52405,11848.141,17904.52705,7046.7222,14313.8463,2103.08,38792.6856,1815.8759,7731.85785,28476.73499,2136.88225,1131.5066,3309.7926,9414.92,6360.9936,11013.7119,4428.88785,5584.3057,1877.9294,2842.76075,3597.596,23401.30575,55135.40209,7445.918,2680.9493,1621.8827,8219.2039,12523.6048,16069.08475,43813.8661,20773.62775,39597.4072,6117.4945,13393.756,5266.3656,4719.73655,11743.9341,5377.4578,7160.3303,4402.233,11657.7189,6402.29135,12622.1795,1526.312,12323.936,36021.0112,27533.9129,10072.05505,45008.9555,9872.701,2438.0552,2974.126,10601.63225,37270.1512,14119.62,42111.6647,11729.6795,24106.91255,1875.344,40974.1649,15817.9857,18218.16139,10965.446,46113.511,7151.092,12269.68865,5458.04645,8782.469,6600.361,1141.4451,11576.13,13129.60345,4391.652,8457.818,3392.3652,5966.8874,6849.026,8891.1395,2690.1138,26140.3603,6653.7886,6282.235,6311.952,3443.064,2789.0574,2585.85065,46255.1125,4877.98105,19719.6947,27218.43725,5272.1758,1682.597,11945.1327,29330.98315,7243.8136,10422.91665,44202.6536,13555.0049,13063.883,19798.05455,2221.56445,1634.5734,2117.33885,8688.85885,48673.5588,4661.28635,8125.7845,12644.589,4564.19145,4846.92015,7633.7206,15170.069,17496.306,2639.0429,33732.6867,14382.70905,7626.993,5257.50795,2473.3341,21774.32215,35069.37452,13041.921,5245.2269,13451.122,13462.52,5488.262,4320.41085,6250.435,25333.33284,2913.569,12032.326,13470.8044,6289.7549,2927.0647,6238.298,10096.97,7348.142,4673.3922,12233.828,32108.66282,8965.79575,2304.0022,9487.6442,1121.8739,9549.5651,2217.46915,1628.4709,12982.8747,11674.13,7160.094,39047.285,6358.77645,19933.458,11534.87265,47462.894,4527.18295,38998.546,20009.63365,3875.7341,41999.52,12609.88702,41034.2214,28468.91901,2730.10785,3353.284,14474.675,9500.57305,26467.09737,4746.344,23967.38305,7518.02535,3279.86855,8596.8278,10702.6424,4992.3764,2527.81865,1759.338,2322.6218,16138.76205,7804.1605,2902.9065,9704.66805,4889.0368,25517.11363,4500.33925,19199.944,16796.41194,4915.05985,7624.63,8410.04685,28340.18885,4518.82625,14571.8908,3378.91,7144.86265,10118.424,5484.4673,16420.49455,7986.47525,7418.522,13887.9685,6551.7501,5267.81815,17361.7661,34472.841,1972.95,21232.18226,8627.5411,4433.3877,4438.2634,24915.22085,23241.47453,9957.7216,8269.044,18767.7377,36580.28216,8765.249,5383.536,12124.9924,2709.24395,3987.926,12495.29085,26018.95052,8798.593,35595.5898,42211.1382,1711.0268,8569.8618,2020.177,16450.8947,21595.38229,9850.432,6877.9801,21677.28345,44423.803,4137.5227,13747.87235,12950.0712,12094.478,37484.4493,39725.51805,2250.8352,22493.65964,20234.85475,1704.70015,33475.81715,3161.454,11394.06555,21880.82,7325.0482,44501.3982,3594.17085,39727.614,8023.13545,14394.5579,9288.0267,25309.489,3353.4703,10594.50155,8277.523,17929.30337,2480.9791,4462.7218,1981.5819,11554.2236,48970.2476,6548.19505,5708.867,7045.499,8978.1851,5757.41345,14349.8544,10928.849,39871.7043,13974.45555,1909.52745,12096.6512,13204.28565,4562.8421,8551.347,2102.2647,34672.1472,15161.5344,11884.04858,4454.40265,5855.9025,4076.497,15019.76005,19023.26,10796.35025,11353.2276,9748.9106,10577.087,41676.0811,11286.5387,3591.48,33907.548,11299.343,4561.1885,44641.1974,1674.6323,23045.56616,3227.1211,16776.30405,11253.421,3471.4096,11363.2832,20420.60465,10338.9316,8988.15875,10493.9458,2904.088,8605.3615,11512.405,41949.2441,24180.9335,5312.16985,2396.0959,10807.4863,9222.4026,36124.5737,38282.7495,5693.4305,34166.273,8347.1643,46661.4424,18903.49141,40904.1995,14254.6082,10214.636,5836.5204,14358.36437,1728.897,8582.3023,3693.428,20709.02034,9991.03765,19673.33573,11085.5868,7623.518,3176.2877,3704.3545,36898.73308,9048.0273,7954.517,27117.99378,6338.0756,9630.397,11289.10925,52590.82939,2261.5688,10791.96,5979.731,2203.73595,12235.8392,40941.2854,5630.45785,11015.1747,7228.21565,39722.7462,14426.07385,2459.7201,3989.841,7727.2532,5124.1887,18963.17192,2200.83085,7153.5539,5227.98875,10982.5013,4529.477,4670.64,6112.35295,17178.6824,22478.6,11093.6229,6457.8434,4433.9159,2154.361,23887.6627,6496.886,2899.48935,19350.3689,7650.77375,2850.68375,2632.992,9447.3824,18328.2381,8603.8234,37465.34375,13844.7972,21771.3423,13126.67745,5327.40025,13725.47184,13019.16105,8671.19125,4134.08245,18838.70366,33307.5508,5699.8375,6393.60345,4934.705,6198.7518,8733.22925,2055.3249,9964.06,18223.4512,5116.5004,36910.60803,38415.474,20296.86345,12347.172,5373.36425,23563.01618,1702.4553,10806.839,3956.07145,12890.05765,5415.6612,4058.1161,41661.602,7537.1639,4718.20355,6593.5083,8442.667,26125.67477,6858.4796,4795.6568,6640.54485,7162.0122,10594.2257,11938.25595,60021.39897,20167.33603,12479.70895,11345.519,8515.7587,2699.56835,14449.8544,12224.35085,6985.50695,3238.4357,47269.854,49577.6624,4296.2712,3171.6149,1135.9407,5615.369,9101.798,6059.173,1633.9618,37607.5277,18648.4217,1241.565,16232.847,15828.82173,4415.1588,6474.013,11436.73815,11305.93455,30063.58055,10197.7722,4544.2348,3277.161,6770.1925,7337.748,10370.91255,26926.5144,10704.47,34254.05335,1880.487,8615.3,3292.52985,3021.80915,14478.33015,4747.0529,17043.3414,10959.33,2741.948,4357.04365,22462.04375,4189.1131,8283.6807,24535.69855,14283.4594,1720.3537,47403.88,8534.6718,3732.6251,5472.449,38344.566,7147.4728,7133.9025,34828.654,1515.3449,9301.89355,11931.12525,1964.78,1708.92575,4340.4409,5261.46945,2710.82855,62592.87309,46718.16325,3208.787,37829.7242,21259.37795,2464.6188,16115.3045,21472.4788,33900.653,6875.961,6940.90985,4571.41305,4536.259,36397.576,18765.87545,11272.33139,1731.677,1163.4627,19496.71917,7201.70085,5425.02335,28101.33305,12981.3457,43896.3763,4239.89265,13143.33665,7050.0213,9377.9047,22395.74424,10325.206,12629.1656,10795.93733,11411.685,10600.5483,2205.9808,1629.8335,2007.945,29141.3603],\"yaxis\":\"y\",\"type\":\"scattergl\"}],                        {\"template\":{\"data\":{\"barpolar\":[{\"marker\":{\"line\":{\"color\":\"white\",\"width\":0.5},\"pattern\":{\"fillmode\":\"overlay\",\"size\":10,\"solidity\":0.2}},\"type\":\"barpolar\"}],\"bar\":[{\"error_x\":{\"color\":\"#2a3f5f\"},\"error_y\":{\"color\":\"#2a3f5f\"},\"marker\":{\"line\":{\"color\":\"white\",\"width\":0.5},\"pattern\":{\"fillmode\":\"overlay\",\"size\":10,\"solidity\":0.2}},\"type\":\"bar\"}],\"carpet\":[{\"aaxis\":{\"endlinecolor\":\"#2a3f5f\",\"gridcolor\":\"#C8D4E3\",\"linecolor\":\"#C8D4E3\",\"minorgridcolor\":\"#C8D4E3\",\"startlinecolor\":\"#2a3f5f\"},\"baxis\":{\"endlinecolor\":\"#2a3f5f\",\"gridcolor\":\"#C8D4E3\",\"linecolor\":\"#C8D4E3\",\"minorgridcolor\":\"#C8D4E3\",\"startlinecolor\":\"#2a3f5f\"},\"type\":\"carpet\"}],\"choropleth\":[{\"colorbar\":{\"outlinewidth\":0,\"ticks\":\"\"},\"type\":\"choropleth\"}],\"contourcarpet\":[{\"colorbar\":{\"outlinewidth\":0,\"ticks\":\"\"},\"type\":\"contourcarpet\"}],\"contour\":[{\"colorbar\":{\"outlinewidth\":0,\"ticks\":\"\"},\"colorscale\":[[0.0,\"#0d0887\"],[0.1111111111111111,\"#46039f\"],[0.2222222222222222,\"#7201a8\"],[0.3333333333333333,\"#9c179e\"],[0.4444444444444444,\"#bd3786\"],[0.5555555555555556,\"#d8576b\"],[0.6666666666666666,\"#ed7953\"],[0.7777777777777778,\"#fb9f3a\"],[0.8888888888888888,\"#fdca26\"],[1.0,\"#f0f921\"]],\"type\":\"contour\"}],\"heatmapgl\":[{\"colorbar\":{\"outlinewidth\":0,\"ticks\":\"\"},\"colorscale\":[[0.0,\"#0d0887\"],[0.1111111111111111,\"#46039f\"],[0.2222222222222222,\"#7201a8\"],[0.3333333333333333,\"#9c179e\"],[0.4444444444444444,\"#bd3786\"],[0.5555555555555556,\"#d8576b\"],[0.6666666666666666,\"#ed7953\"],[0.7777777777777778,\"#fb9f3a\"],[0.8888888888888888,\"#fdca26\"],[1.0,\"#f0f921\"]],\"type\":\"heatmapgl\"}],\"heatmap\":[{\"colorbar\":{\"outlinewidth\":0,\"ticks\":\"\"},\"colorscale\":[[0.0,\"#0d0887\"],[0.1111111111111111,\"#46039f\"],[0.2222222222222222,\"#7201a8\"],[0.3333333333333333,\"#9c179e\"],[0.4444444444444444,\"#bd3786\"],[0.5555555555555556,\"#d8576b\"],[0.6666666666666666,\"#ed7953\"],[0.7777777777777778,\"#fb9f3a\"],[0.8888888888888888,\"#fdca26\"],[1.0,\"#f0f921\"]],\"type\":\"heatmap\"}],\"histogram2dcontour\":[{\"colorbar\":{\"outlinewidth\":0,\"ticks\":\"\"},\"colorscale\":[[0.0,\"#0d0887\"],[0.1111111111111111,\"#46039f\"],[0.2222222222222222,\"#7201a8\"],[0.3333333333333333,\"#9c179e\"],[0.4444444444444444,\"#bd3786\"],[0.5555555555555556,\"#d8576b\"],[0.6666666666666666,\"#ed7953\"],[0.7777777777777778,\"#fb9f3a\"],[0.8888888888888888,\"#fdca26\"],[1.0,\"#f0f921\"]],\"type\":\"histogram2dcontour\"}],\"histogram2d\":[{\"colorbar\":{\"outlinewidth\":0,\"ticks\":\"\"},\"colorscale\":[[0.0,\"#0d0887\"],[0.1111111111111111,\"#46039f\"],[0.2222222222222222,\"#7201a8\"],[0.3333333333333333,\"#9c179e\"],[0.4444444444444444,\"#bd3786\"],[0.5555555555555556,\"#d8576b\"],[0.6666666666666666,\"#ed7953\"],[0.7777777777777778,\"#fb9f3a\"],[0.8888888888888888,\"#fdca26\"],[1.0,\"#f0f921\"]],\"type\":\"histogram2d\"}],\"histogram\":[{\"marker\":{\"pattern\":{\"fillmode\":\"overlay\",\"size\":10,\"solidity\":0.2},\"line\":{\"width\":1}},\"type\":\"histogram\"}],\"mesh3d\":[{\"colorbar\":{\"outlinewidth\":0,\"ticks\":\"\"},\"type\":\"mesh3d\"}],\"parcoords\":[{\"line\":{\"colorbar\":{\"outlinewidth\":0,\"ticks\":\"\"}},\"type\":\"parcoords\"}],\"pie\":[{\"automargin\":true,\"type\":\"pie\"}],\"scatter3d\":[{\"line\":{\"colorbar\":{\"outlinewidth\":0,\"ticks\":\"\"}},\"marker\":{\"colorbar\":{\"outlinewidth\":0,\"ticks\":\"\"},\"opacity\":0.8},\"type\":\"scatter3d\"}],\"scattercarpet\":[{\"marker\":{\"colorbar\":{\"outlinewidth\":0,\"ticks\":\"\"}},\"type\":\"scattercarpet\"}],\"scattergeo\":[{\"marker\":{\"colorbar\":{\"outlinewidth\":0,\"ticks\":\"\"}},\"type\":\"scattergeo\"}],\"scattergl\":[{\"marker\":{\"colorbar\":{\"outlinewidth\":0,\"ticks\":\"\"}},\"type\":\"scattergl\"}],\"scattermapbox\":[{\"marker\":{\"colorbar\":{\"outlinewidth\":0,\"ticks\":\"\"}},\"type\":\"scattermapbox\"}],\"scatterpolargl\":[{\"marker\":{\"colorbar\":{\"outlinewidth\":0,\"ticks\":\"\"}},\"type\":\"scatterpolargl\"}],\"scatterpolar\":[{\"marker\":{\"colorbar\":{\"outlinewidth\":0,\"ticks\":\"\"}},\"type\":\"scatterpolar\"}],\"scatter\":[{\"fillpattern\":{\"fillmode\":\"overlay\",\"size\":10,\"solidity\":0.2},\"type\":\"scatter\",\"marker\":{\"opacity\":0.8}}],\"scatterternary\":[{\"marker\":{\"colorbar\":{\"outlinewidth\":0,\"ticks\":\"\"}},\"type\":\"scatterternary\"}],\"surface\":[{\"colorbar\":{\"outlinewidth\":0,\"ticks\":\"\"},\"colorscale\":[[0.0,\"#0d0887\"],[0.1111111111111111,\"#46039f\"],[0.2222222222222222,\"#7201a8\"],[0.3333333333333333,\"#9c179e\"],[0.4444444444444444,\"#bd3786\"],[0.5555555555555556,\"#d8576b\"],[0.6666666666666666,\"#ed7953\"],[0.7777777777777778,\"#fb9f3a\"],[0.8888888888888888,\"#fdca26\"],[1.0,\"#f0f921\"]],\"type\":\"surface\"}],\"table\":[{\"cells\":{\"fill\":{\"color\":\"#EBF0F8\"},\"line\":{\"color\":\"white\"}},\"header\":{\"fill\":{\"color\":\"#C8D4E3\"},\"line\":{\"color\":\"white\"}},\"type\":\"table\"}],\"box\":[{\"boxpoints\":\"outliers\",\"notched\":false,\"type\":\"box\"}]},\"layout\":{\"annotationdefaults\":{\"arrowcolor\":\"#2a3f5f\",\"arrowhead\":0,\"arrowwidth\":1},\"autotypenumbers\":\"strict\",\"coloraxis\":{\"colorbar\":{\"outlinewidth\":0,\"ticks\":\"\"}},\"colorscale\":{\"diverging\":[[0,\"#8e0152\"],[0.1,\"#c51b7d\"],[0.2,\"#de77ae\"],[0.3,\"#f1b6da\"],[0.4,\"#fde0ef\"],[0.5,\"#f7f7f7\"],[0.6,\"#e6f5d0\"],[0.7,\"#b8e186\"],[0.8,\"#7fbc41\"],[0.9,\"#4d9221\"],[1,\"#276419\"]],\"sequential\":[[0.0,\"#0d0887\"],[0.1111111111111111,\"#46039f\"],[0.2222222222222222,\"#7201a8\"],[0.3333333333333333,\"#9c179e\"],[0.4444444444444444,\"#bd3786\"],[0.5555555555555556,\"#d8576b\"],[0.6666666666666666,\"#ed7953\"],[0.7777777777777778,\"#fb9f3a\"],[0.8888888888888888,\"#fdca26\"],[1.0,\"#f0f921\"]],\"sequentialminus\":[[0.0,\"#0d0887\"],[0.1111111111111111,\"#46039f\"],[0.2222222222222222,\"#7201a8\"],[0.3333333333333333,\"#9c179e\"],[0.4444444444444444,\"#bd3786\"],[0.5555555555555556,\"#d8576b\"],[0.6666666666666666,\"#ed7953\"],[0.7777777777777778,\"#fb9f3a\"],[0.8888888888888888,\"#fdca26\"],[1.0,\"#f0f921\"]]},\"colorway\":[\"#636efa\",\"#EF553B\",\"#00cc96\",\"#ab63fa\",\"#FFA15A\",\"#19d3f3\",\"#FF6692\",\"#B6E880\",\"#FF97FF\",\"#FECB52\"],\"font\":{\"color\":\"#2a3f5f\"},\"geo\":{\"bgcolor\":\"white\",\"lakecolor\":\"white\",\"landcolor\":\"white\",\"showlakes\":true,\"showland\":true,\"subunitcolor\":\"#C8D4E3\"},\"hoverlabel\":{\"align\":\"left\"},\"hovermode\":\"closest\",\"mapbox\":{\"style\":\"light\"},\"paper_bgcolor\":\"white\",\"plot_bgcolor\":\"white\",\"polar\":{\"angularaxis\":{\"gridcolor\":\"#EBF0F8\",\"linecolor\":\"#EBF0F8\",\"ticks\":\"\"},\"bgcolor\":\"white\",\"radialaxis\":{\"gridcolor\":\"#EBF0F8\",\"linecolor\":\"#EBF0F8\",\"ticks\":\"\"}},\"scene\":{\"xaxis\":{\"backgroundcolor\":\"white\",\"gridcolor\":\"#DFE8F3\",\"gridwidth\":2,\"linecolor\":\"#EBF0F8\",\"showbackground\":true,\"ticks\":\"\",\"zerolinecolor\":\"#EBF0F8\"},\"yaxis\":{\"backgroundcolor\":\"white\",\"gridcolor\":\"#DFE8F3\",\"gridwidth\":2,\"linecolor\":\"#EBF0F8\",\"showbackground\":true,\"ticks\":\"\",\"zerolinecolor\":\"#EBF0F8\"},\"zaxis\":{\"backgroundcolor\":\"white\",\"gridcolor\":\"#DFE8F3\",\"gridwidth\":2,\"linecolor\":\"#EBF0F8\",\"showbackground\":true,\"ticks\":\"\",\"zerolinecolor\":\"#EBF0F8\"},\"camera\":{\"eye\":{\"x\":1.5,\"y\":1.5,\"z\":0.1}}},\"shapedefaults\":{\"line\":{\"color\":\"#2a3f5f\"}},\"ternary\":{\"aaxis\":{\"gridcolor\":\"#DFE8F3\",\"linecolor\":\"#A2B1C6\",\"ticks\":\"\"},\"baxis\":{\"gridcolor\":\"#DFE8F3\",\"linecolor\":\"#A2B1C6\",\"ticks\":\"\"},\"bgcolor\":\"white\",\"caxis\":{\"gridcolor\":\"#DFE8F3\",\"linecolor\":\"#A2B1C6\",\"ticks\":\"\"}},\"title\":{\"x\":0.5},\"xaxis\":{\"automargin\":true,\"gridcolor\":\"#EBF0F8\",\"linecolor\":\"#EBF0F8\",\"ticks\":\"\",\"title\":{\"standoff\":15},\"zerolinecolor\":\"#EBF0F8\",\"zerolinewidth\":2,\"linewidth\":2,\"showline\":true},\"yaxis\":{\"automargin\":true,\"gridcolor\":\"#EBF0F8\",\"linecolor\":\"#EBF0F8\",\"ticks\":\"\",\"title\":{\"standoff\":15},\"zerolinecolor\":\"#EBF0F8\",\"zerolinewidth\":2,\"linewidth\":2,\"showline\":true},\"height\":400,\"margin\":{\"b\":2,\"l\":2,\"r\":2,\"t\":30}}},\"xaxis\":{\"anchor\":\"y\",\"domain\":[0.0,1.0],\"title\":{\"text\":\"age\"},\"range\":[18,64]},\"yaxis\":{\"anchor\":\"x\",\"domain\":[0.0,1.0],\"title\":{\"text\":\"charges\"}},\"legend\":{\"tracegroupgap\":0},\"title\":{\"text\":\"Age Vs Charges\"}},                        {\"responsive\": true}                    ).then(function(){\n",
              "                            \n",
              "var gd = document.getElementById('e49d0b0d-e76a-4fea-a41c-feea4372d3d1');\n",
              "var x = new MutationObserver(function (mutations, observer) {{\n",
              "        var display = window.getComputedStyle(gd).display;\n",
              "        if (!display || display === 'none') {{\n",
              "            console.log([gd, 'removed!']);\n",
              "            Plotly.purge(gd);\n",
              "            observer.disconnect();\n",
              "        }}\n",
              "}});\n",
              "\n",
              "// Listen for the removal of the full notebook cells\n",
              "var notebookContainer = gd.closest('#notebook-container');\n",
              "if (notebookContainer) {{\n",
              "    x.observe(notebookContainer, {childList: true});\n",
              "}}\n",
              "\n",
              "// Listen for the clearing of the current output cell\n",
              "var outputEl = gd.closest('.output');\n",
              "if (outputEl) {{\n",
              "    x.observe(outputEl, {childList: true});\n",
              "}}\n",
              "\n",
              "                        })                };                            </script>        </div>\n",
              "</body>\n",
              "</html>"
            ]
          },
          "metadata": {}
        }
      ],
      "source": [
        "# In this method, a 2D graph is plotted using BMI as a feature and label as ....\n",
        "graphing.scatter_2D(data, label_x='age', label_y='charges', title=\"Age Vs Charges\")"
      ]
    },
    {
      "cell_type": "code",
      "source": [],
      "metadata": {
        "id": "Ip4D0MuiOH5M"
      },
      "execution_count": null,
      "outputs": []
    },
    {
      "cell_type": "markdown",
      "metadata": {
        "id": "bxdzfJR2VbTj"
      },
      "source": [
        "## Step 4: Train and test sets\n",
        "\n",
        "Before we train a model, we need to split our data into training and test sets.\n",
        "\n",
        "This means we take our dataframe called `data` and split it into two dataframes:\n",
        "* one called `training_data`\n",
        "* one called `testing_data`\n",
        "\n",
        "There are lots of ways to do this, but you don't need to memorise how for this course.\n",
        "\n",
        "You can check this worked properly by checking that the number of rows in `training_data` plus the number of rows in `testing_data` add to how much data you started with.\n",
        "\n",
        "### Instructions\n",
        "\n",
        "1. Read all comments in each cell below\n",
        "1. Run the Cell 1 to split the data into different datasets\n",
        "1. Complete Cell 2, by replacing the question marks with the word `size`.\n",
        "1. Run Cell 2\n",
        "1. Complete Cell 3 so that it will print out the amount of _testing_ data\n",
        "1. Run Cell 3\n",
        "1. Check that if you add the numbers from Cell 2 and Cell 3, you get the amount of data in the whole data set (printed in Cell 1)\n",
        "\n",
        "### Hints\n",
        "* You can see how to complete the Cell 3 by looking at Cell 2\n",
        "* Make sure you print the testing data in the last cell, not the training data\n"
      ]
    },
    {
      "cell_type": "code",
      "execution_count": 6,
      "metadata": {
        "id": "ursBfGvuVbTj",
        "outputId": "0d0b165a-1370-4c49-ad07-4be2954afc3f",
        "colab": {
          "base_uri": "https://localhost:8080/"
        }
      },
      "outputs": [
        {
          "output_type": "stream",
          "name": "stdout",
          "text": [
            "total number of rows in data\n",
            "9366\n"
          ]
        }
      ],
      "source": [
        "# CELL 1\n",
        "\n",
        "# Print the amount of data in the whole data set\n",
        "print(\"total number of rows in data\")\n",
        "print(data.size)\n",
        "\n",
        "# Create a training data set\n",
        "training_data = data.sample(frac=0.8)\n",
        "\n",
        "# Create a testing data set\n",
        "testing_data = data.drop(training_data.index)"
      ]
    },
    {
      "cell_type": "code",
      "execution_count": 7,
      "metadata": {
        "id": "Xf9I6iv5VbTj",
        "outputId": "978f89d3-9f0f-4ed2-dea7-690b38cba3fe",
        "colab": {
          "base_uri": "https://localhost:8080/"
        }
      },
      "outputs": [
        {
          "output_type": "stream",
          "name": "stdout",
          "text": [
            "Amount of training data\n",
            "7490\n"
          ]
        }
      ],
      "source": [
        "# CELL 2\n",
        "# Change this code so it prints how much training data there are\n",
        "print(\"Amount of training data\")\n",
        "print(training_data.size)"
      ]
    },
    {
      "cell_type": "code",
      "execution_count": 15,
      "metadata": {
        "id": "3ugw7ZaxVbTk",
        "outputId": "dfe67c13-7a18-41b9-fc22-f28ed9d978c2",
        "colab": {
          "base_uri": "https://localhost:8080/"
        }
      },
      "outputs": [
        {
          "output_type": "stream",
          "name": "stdout",
          "text": [
            "Amount of testing data\n",
            "1876\n"
          ]
        }
      ],
      "source": [
        "# CELL 3\n",
        "# Change this code so it prints how much testing data there are\n",
        "print(\"Amount of testing data\")\n",
        "print(testing_data.size)"
      ]
    },
    {
      "cell_type": "markdown",
      "metadata": {
        "id": "pmIHPWNEVbTk"
      },
      "source": [
        "## Step 5a: Build a simple linear regression model - Import StatsModels\n",
        "\n",
        "We're almost ready to build our model.\n",
        "\n",
        "We want to build our model using a package called `statsmodels`.\n",
        "\n",
        "`statsmodels` is a package that contains lots of smaller packages. We only want one of them, called `statsmodels.formula.api`.\n",
        "\n",
        "We can import this two different ways.\n",
        "\n",
        "#### Option 1\n",
        "The first way is to do what we've done before:\n",
        "```\n",
        "import statsmodels.formula.api\n",
        "```\n",
        "When we use something inside of it, we write it out in full. For example, let's say we want to use a method called `ols()`. We would write\n",
        "```\n",
        "statsmodels.formula.api.ols()\n",
        "```\n",
        "\n",
        "#### Option 2\n",
        "The second way is to do what we've done before, but add a nickname:\n",
        "```\n",
        "import statsmodels.formula.api as smf\n",
        "```\n",
        "When we use something inside of it, we can use its nickname. For example\n",
        "```\n",
        "smf.ols()\n",
        "```\n",
        "\n",
        "### Instructions\n",
        "1. Choose one option above to import `statsmodels.formula.api`\n",
        "1. Write code in the cell below to import your model\n",
        "1. Run the cell\n",
        "\n",
        "Note: the way you do this will change how you answer questions that follow. Use whichever option is more intuitive for you.\n"
      ]
    },
    {
      "cell_type": "code",
      "execution_count": 16,
      "metadata": {
        "id": "acBfkeYiVbTk",
        "outputId": "323eaa6e-b3a7-41fc-f296-fd976d905544",
        "colab": {
          "base_uri": "https://localhost:8080/"
        }
      },
      "outputs": [
        {
          "output_type": "stream",
          "name": "stdout",
          "text": [
            "Well done! The package was imported successfully\n"
          ]
        }
      ],
      "source": [
        "# Complete the line below to import statsmodels.formula.api\n",
        "import statsmodels.formula.api as smf\n",
        "\n",
        "\n",
        "\n",
        "# ===========================================================\n",
        "# You can ignore the code below. It will simply check your code\n",
        "if 'statsmodels.formula.api' in sys.modules:\n",
        "    print(\"Well done! The package was imported successfully\")\n",
        "else:\n",
        "    print(\"The package was not imported. Try again\")\n"
      ]
    },
    {
      "cell_type": "markdown",
      "metadata": {
        "id": "JuJKbCtYVbTk"
      },
      "source": [
        "## Step 5b: Build a simple linear regression model\n",
        "\n",
        "Let's build our model. We do that using a function called `ols` inside of `statsmodels.formula.api`. It makes a model, but does not train it.\n",
        "\n",
        "In previous exercises we saw how to use formulae to build these models. For example, when we built a model to predict bean harvest sizes (label) using the number of workers (feature) our formula was:\n",
        "\n",
        "```\"tons_of_beans_harvested ~ number_of_workers\"```\n",
        "\n",
        "Now we want to be able to predict `charges` (label) using the formula `age`. This means our formula is\n",
        "```\"charges ~ age\"```\n",
        "\n",
        "#### A note about 'formulas'\n",
        "These are short-hand ways to write the proper mathematical formulas you were shown in class that have slope and intercept. Statsmodels prefers us to write the short-hand versions.\n",
        "\n",
        "### Instructions\n",
        "1. Replace the left-most question marks with the name you gave `statsmodels.formula.api` in the previous step.\n",
        "1. Replace the second question marks with the short-hand formula we need. Remember we want to predict `charges` using `age`.\n",
        "1. Replace the third question marks with the name of our _training_ dataset.\n",
        "1. Run the cell\n",
        "\n",
        "### Hints\n",
        "1. If you didn't give the package a nickname in the previous step, its name is `statsmodels.formula.api`\n",
        "1. We've provided you with the formula needed above. Make sure you understand what it means, though.\n",
        "1. The name of the training data set variable is in Step 4, Cell 2\n"
      ]
    },
    {
      "cell_type": "code",
      "execution_count": 17,
      "metadata": {
        "id": "M0kqffNEVbTk",
        "outputId": "104569c2-2402-4acf-8d6f-805f9b077aab",
        "colab": {
          "base_uri": "https://localhost:8080/"
        }
      },
      "outputs": [
        {
          "output_type": "stream",
          "name": "stdout",
          "text": [
            "Well done! Your model is ready to train\n"
          ]
        }
      ],
      "source": [
        "# Complete the code below\n",
        "untrained_model = smf.ols(formula=\"charges ~ age\", data=training_data)\n",
        "\n",
        "\n",
        "# ===========================================================\n",
        "# You can ignore the code below. It will simply check your code\n",
        "if 'untrained_model' in locals():\n",
        "    if untrained_model.data.frame.size == 7490:\n",
        "        print(\"Well done! Your model is ready to train\")\n",
        "    else:\n",
        "        print(\"Try to use the training data. It looks like you used something else\")\n",
        "else:\n",
        "    print(\"Not quite right! Try again\")"
      ]
    },
    {
      "cell_type": "markdown",
      "metadata": {
        "id": "Q_fVo7CZVbTl"
      },
      "source": [
        "## Step 6: Train your model\n",
        "\n",
        "Your model is ready to train!\n",
        "\n",
        "Your model has a method called `fit()` which:\n",
        "* Runs training to completion using:\n",
        "    * The formula you provided\n",
        "    * Sum of squared errors as an error function\n",
        "* Returns a newly trained model, which we need to save to a variable\n",
        "\n",
        "Once we have run training, we can print out the trained model's parameters (its slope and intercept)\n",
        "\n",
        "### Instructions\n",
        "\n",
        "1. Replace the question marks below with code that will train your model\n",
        "1. Run the cell\n",
        "1. Read the output:\n",
        "    * The slope for age means the line's slope. This is how much the price increases for every year you have lived\n",
        "    * The intercept means a base amount that everyone has to pay each year\n",
        "\n",
        "### Hint\n",
        "\n",
        "Remember the example in class about robots being given instructions.\n",
        "\n",
        "If your robot was called `my_robot` and the list of instructions was called `clean_my_room()` we would write\n",
        "```my_robot.clean_my_room()```\n",
        "\n",
        "In this case, our robot is our model, called `untrained_model`, and the list of instructions is called `fit()`.\n"
      ]
    },
    {
      "cell_type": "code",
      "execution_count": 18,
      "metadata": {
        "id": "_InlnLCgVbTl",
        "outputId": "0c68e8fc-ba00-44f6-e9d0-b9cd69bf6cb8",
        "colab": {
          "base_uri": "https://localhost:8080/"
        }
      },
      "outputs": [
        {
          "output_type": "stream",
          "name": "stdout",
          "text": [
            "slope for age:\n",
            "261.6736106645178\n",
            "intercept (offset):\n",
            "2891.503669401164\n"
          ]
        }
      ],
      "source": [
        "# Replace the question marks with code that runs\n",
        "# training on your model\n",
        "trained_model = untrained_model.fit()\n",
        "\n",
        "# Print out the trained model's parameters\n",
        "print(\"slope for age:\")\n",
        "print(trained_model.params.age)\n",
        "print(\"intercept (offset):\")\n",
        "print(trained_model.params.Intercept)"
      ]
    },
    {
      "cell_type": "markdown",
      "metadata": {
        "id": "j9Na9EM-VbTl"
      },
      "source": [
        "## Step 7: Graph your model\n",
        "\n",
        "Let's graph your model.\n",
        "\n",
        "This is just like the previous graph we made, but this time:\n",
        "* We will have the trained_model's predictions as a trendline (we have done this for you)\n",
        "* We only want the testing data\n",
        "\n",
        "### Instructions\n",
        "1. Replace the first question marks with the name of the variable holding your _testing_ data.\n",
        "1. Replace the second question marks with the name of the `age` variable\n",
        "1. Replace the third question marks with the name of the `charges` variable\n",
        "\n",
        "### Hints\n",
        "\n",
        "* This is just like Step 3B, except you must use the testing data, _not_ `data` and _not_ `training_data`.\n",
        "* You can find the name of the testing data in Step 4\n",
        "* Remember that `label_x` and `label_y` should be strings - put the names in quotes."
      ]
    },
    {
      "cell_type": "code",
      "execution_count": 19,
      "metadata": {
        "id": "oIWbkxXWVbTl",
        "outputId": "505bdd8f-fd02-4355-9e8b-e9023d535558",
        "colab": {
          "base_uri": "https://localhost:8080/",
          "height": 417
        }
      },
      "outputs": [
        {
          "output_type": "display_data",
          "data": {
            "text/html": [
              "<html>\n",
              "<head><meta charset=\"utf-8\" /></head>\n",
              "<body>\n",
              "    <div>            <script src=\"https://cdnjs.cloudflare.com/ajax/libs/mathjax/2.7.5/MathJax.js?config=TeX-AMS-MML_SVG\"></script><script type=\"text/javascript\">if (window.MathJax && window.MathJax.Hub && window.MathJax.Hub.Config) {window.MathJax.Hub.Config({SVG: {font: \"STIX-Web\"}});}</script>                <script type=\"text/javascript\">window.PlotlyConfig = {MathJaxConfig: 'local'};</script>\n",
              "        <script charset=\"utf-8\" src=\"https://cdn.plot.ly/plotly-2.24.1.min.js\"></script>                <div id=\"9de00b18-d28f-4c02-b93d-c4efd2a843b9\" class=\"plotly-graph-div\" style=\"height:400px; width:100%;\"></div>            <script type=\"text/javascript\">                                    window.PLOTLYENV=window.PLOTLYENV || {};                                    if (document.getElementById(\"9de00b18-d28f-4c02-b93d-c4efd2a843b9\")) {                    Plotly.newPlot(                        \"9de00b18-d28f-4c02-b93d-c4efd2a843b9\",                        [{\"hovertemplate\":\"age=%{x}\\u003cbr\\u003echarges=%{y}\\u003cextra\\u003e\\u003c\\u002fextra\\u003e\",\"legendgroup\":\"\",\"marker\":{\"color\":\"#636efa\",\"symbol\":\"circle\",\"size\":9},\"mode\":\"markers\",\"name\":\"\",\"orientation\":\"v\",\"showlegend\":false,\"x\":[33,37,27,56,31,28,55,18,60,36,18,21,20,61,31,31,53,64,18,19,20,19,54,46,48,32,44,35,24,38,45,19,46,63,34,27,19,23,40,63,50,56,38,52,50,41,51,54,46,59,25,47,27,60,60,34,46,19,18,18,35,21,56,23,24,62,50,24,46,64,51,49,33,38,32,44,25,19,43,27,60,22,18,60,56,24,32,57,42,19,30,49,21,31,44,37,56,19,42,38,63,49,32,52,18,49,62,57,31,25,59,43,59,30,47,20,56,24,51,39,43,39,40,18,45,27,57,37,57,41,44,49,19,53,42,27,21,24,53,60,49,51,58,53,30,59,29,34,47,58,30,53,35,18,21,62,30,33,18,23,19,26,56,63,35,59,55,20,48,38,55,33,41,37,57,57,64,18,19,49,49,22,34,46,45,53,18,62,63,46,52,44,50,34,22,19,34,31,43,34,26,38,36,48,51,43,61,19,46,18,54,55,49,44,64,49,42,63,32,47,21,47,55,22,18,22,29,26,23,57,28,50,20,38,23,24,48,31,19,41,51,18,59,59,27,29,46,50,40,42,43,25,26,25,20,38,33,25,43,24,41,42,19,18,35,42,61,18],\"xaxis\":\"x\",\"y\":[21984.47061,7281.5056,39611.7577,10602.385,38711.0,51194.55914,20630.28351,3393.35635,12629.8967,38709.176,2211.13075,3579.8287,14711.7438,14235.072,6799.458,4441.21315,10942.13205,47291.055,21344.8467,2331.519,2257.47525,1261.442,27322.73386,40720.55105,7789.635,6334.34355,6948.7008,5246.047,2855.43755,6455.86265,8516.829,2130.6759,7147.105,13880.949,5002.7827,2483.736,1727.785,38511.6283,7196.867,29523.1656,41097.16175,43921.1837,5400.9805,24869.8368,42856.838,7265.7025,9855.1314,48549.17835,7742.1098,47896.79135,42112.2356,21978.6769,34838.873,12142.5786,13217.0945,6184.2994,8334.45755,1635.73365,14133.03775,1607.5101,4751.07,2597.779,13430.265,18033.9679,38126.2465,27000.98473,30284.64294,4618.0799,9411.005,14988.432,9264.797,10269.46,4185.0979,6652.5288,4074.4537,19594.80965,5080.096,2134.9015,7345.7266,18804.7524,13919.8229,2254.7967,1149.3959,12730.9996,11454.0215,1969.614,4686.3887,11840.77505,22144.032,1632.03625,19521.9682,9304.7019,17942.106,4931.647,8211.1002,6796.86325,11763.0009,1256.299,38245.59327,6067.12675,13887.204,23807.2406,3972.9247,11187.6567,2801.2588,11552.904,31620.00106,13224.05705,58571.07448,3206.49135,12913.9924,7441.501,25678.77845,39241.442,8547.6913,1880.07,11658.11505,1977.815,9391.346,20149.3229,18806.14547,6123.5688,8252.2843,1712.227,8527.532,4058.71245,14394.39815,6435.6237,22192.43711,6185.3208,46200.9851,10156.7832,1242.26,9863.4718,7729.64575,34806.4677,2104.1134,2352.96845,9504.3103,12146.971,9566.9909,10848.1343,12231.6136,11264.541,40932.4295,14007.222,44585.45587,11737.84884,8556.907,11833.7823,5428.7277,11150.78,5934.3798,1146.7966,1917.3184,13457.9608,4266.1658,17904.52705,38792.6856,1815.8759,2136.88225,2680.9493,43813.8661,13393.756,6402.29135,12622.1795,10601.63225,1875.344,40974.1649,7151.092,12269.68865,6653.7886,6282.235,6311.952,27218.43725,11945.1327,29330.98315,1634.5734,2117.33885,8688.85885,8125.7845,2639.0429,4320.41085,10096.97,7348.142,9487.6442,1121.8739,12982.8747,14474.675,9500.57305,26467.09737,7518.02535,10702.6424,4992.3764,2527.81865,1759.338,4500.33925,19199.944,8410.04685,4518.82625,3378.91,7144.86265,5267.81815,21232.18226,9957.7216,18767.7377,36580.28216,16450.8947,21677.28345,13747.87235,12094.478,11394.06555,39727.614,8023.13545,14394.5579,9288.0267,7045.499,14349.8544,4562.8421,8551.347,2102.2647,41676.0811,11286.5387,33907.548,4561.1885,1674.6323,3471.4096,2904.088,34166.273,20709.02034,19673.33573,9048.0273,2261.5688,6457.8434,2899.48935,2850.68375,8671.19125,4134.08245,18838.70366,5699.8375,9964.06,18223.4512,36910.60803,12347.172,3956.07145,4058.1161,41661.602,8442.667,15828.82173,6474.013,7337.748,3021.80915,17043.3414,4189.1131,38344.566,7133.9025,5261.46945,3208.787,37829.7242,2464.6188,6875.961,6940.90985,36397.576,1163.4627,19496.71917,43896.3763,13143.33665,1629.8335],\"yaxis\":\"y\",\"type\":\"scatter\"}],                        {\"template\":{\"data\":{\"barpolar\":[{\"marker\":{\"line\":{\"color\":\"white\",\"width\":0.5},\"pattern\":{\"fillmode\":\"overlay\",\"size\":10,\"solidity\":0.2}},\"type\":\"barpolar\"}],\"bar\":[{\"error_x\":{\"color\":\"#2a3f5f\"},\"error_y\":{\"color\":\"#2a3f5f\"},\"marker\":{\"line\":{\"color\":\"white\",\"width\":0.5},\"pattern\":{\"fillmode\":\"overlay\",\"size\":10,\"solidity\":0.2}},\"type\":\"bar\"}],\"carpet\":[{\"aaxis\":{\"endlinecolor\":\"#2a3f5f\",\"gridcolor\":\"#C8D4E3\",\"linecolor\":\"#C8D4E3\",\"minorgridcolor\":\"#C8D4E3\",\"startlinecolor\":\"#2a3f5f\"},\"baxis\":{\"endlinecolor\":\"#2a3f5f\",\"gridcolor\":\"#C8D4E3\",\"linecolor\":\"#C8D4E3\",\"minorgridcolor\":\"#C8D4E3\",\"startlinecolor\":\"#2a3f5f\"},\"type\":\"carpet\"}],\"choropleth\":[{\"colorbar\":{\"outlinewidth\":0,\"ticks\":\"\"},\"type\":\"choropleth\"}],\"contourcarpet\":[{\"colorbar\":{\"outlinewidth\":0,\"ticks\":\"\"},\"type\":\"contourcarpet\"}],\"contour\":[{\"colorbar\":{\"outlinewidth\":0,\"ticks\":\"\"},\"colorscale\":[[0.0,\"#0d0887\"],[0.1111111111111111,\"#46039f\"],[0.2222222222222222,\"#7201a8\"],[0.3333333333333333,\"#9c179e\"],[0.4444444444444444,\"#bd3786\"],[0.5555555555555556,\"#d8576b\"],[0.6666666666666666,\"#ed7953\"],[0.7777777777777778,\"#fb9f3a\"],[0.8888888888888888,\"#fdca26\"],[1.0,\"#f0f921\"]],\"type\":\"contour\"}],\"heatmapgl\":[{\"colorbar\":{\"outlinewidth\":0,\"ticks\":\"\"},\"colorscale\":[[0.0,\"#0d0887\"],[0.1111111111111111,\"#46039f\"],[0.2222222222222222,\"#7201a8\"],[0.3333333333333333,\"#9c179e\"],[0.4444444444444444,\"#bd3786\"],[0.5555555555555556,\"#d8576b\"],[0.6666666666666666,\"#ed7953\"],[0.7777777777777778,\"#fb9f3a\"],[0.8888888888888888,\"#fdca26\"],[1.0,\"#f0f921\"]],\"type\":\"heatmapgl\"}],\"heatmap\":[{\"colorbar\":{\"outlinewidth\":0,\"ticks\":\"\"},\"colorscale\":[[0.0,\"#0d0887\"],[0.1111111111111111,\"#46039f\"],[0.2222222222222222,\"#7201a8\"],[0.3333333333333333,\"#9c179e\"],[0.4444444444444444,\"#bd3786\"],[0.5555555555555556,\"#d8576b\"],[0.6666666666666666,\"#ed7953\"],[0.7777777777777778,\"#fb9f3a\"],[0.8888888888888888,\"#fdca26\"],[1.0,\"#f0f921\"]],\"type\":\"heatmap\"}],\"histogram2dcontour\":[{\"colorbar\":{\"outlinewidth\":0,\"ticks\":\"\"},\"colorscale\":[[0.0,\"#0d0887\"],[0.1111111111111111,\"#46039f\"],[0.2222222222222222,\"#7201a8\"],[0.3333333333333333,\"#9c179e\"],[0.4444444444444444,\"#bd3786\"],[0.5555555555555556,\"#d8576b\"],[0.6666666666666666,\"#ed7953\"],[0.7777777777777778,\"#fb9f3a\"],[0.8888888888888888,\"#fdca26\"],[1.0,\"#f0f921\"]],\"type\":\"histogram2dcontour\"}],\"histogram2d\":[{\"colorbar\":{\"outlinewidth\":0,\"ticks\":\"\"},\"colorscale\":[[0.0,\"#0d0887\"],[0.1111111111111111,\"#46039f\"],[0.2222222222222222,\"#7201a8\"],[0.3333333333333333,\"#9c179e\"],[0.4444444444444444,\"#bd3786\"],[0.5555555555555556,\"#d8576b\"],[0.6666666666666666,\"#ed7953\"],[0.7777777777777778,\"#fb9f3a\"],[0.8888888888888888,\"#fdca26\"],[1.0,\"#f0f921\"]],\"type\":\"histogram2d\"}],\"histogram\":[{\"marker\":{\"pattern\":{\"fillmode\":\"overlay\",\"size\":10,\"solidity\":0.2},\"line\":{\"width\":1}},\"type\":\"histogram\"}],\"mesh3d\":[{\"colorbar\":{\"outlinewidth\":0,\"ticks\":\"\"},\"type\":\"mesh3d\"}],\"parcoords\":[{\"line\":{\"colorbar\":{\"outlinewidth\":0,\"ticks\":\"\"}},\"type\":\"parcoords\"}],\"pie\":[{\"automargin\":true,\"type\":\"pie\"}],\"scatter3d\":[{\"line\":{\"colorbar\":{\"outlinewidth\":0,\"ticks\":\"\"}},\"marker\":{\"colorbar\":{\"outlinewidth\":0,\"ticks\":\"\"},\"opacity\":0.8},\"type\":\"scatter3d\"}],\"scattercarpet\":[{\"marker\":{\"colorbar\":{\"outlinewidth\":0,\"ticks\":\"\"}},\"type\":\"scattercarpet\"}],\"scattergeo\":[{\"marker\":{\"colorbar\":{\"outlinewidth\":0,\"ticks\":\"\"}},\"type\":\"scattergeo\"}],\"scattergl\":[{\"marker\":{\"colorbar\":{\"outlinewidth\":0,\"ticks\":\"\"}},\"type\":\"scattergl\"}],\"scattermapbox\":[{\"marker\":{\"colorbar\":{\"outlinewidth\":0,\"ticks\":\"\"}},\"type\":\"scattermapbox\"}],\"scatterpolargl\":[{\"marker\":{\"colorbar\":{\"outlinewidth\":0,\"ticks\":\"\"}},\"type\":\"scatterpolargl\"}],\"scatterpolar\":[{\"marker\":{\"colorbar\":{\"outlinewidth\":0,\"ticks\":\"\"}},\"type\":\"scatterpolar\"}],\"scatter\":[{\"fillpattern\":{\"fillmode\":\"overlay\",\"size\":10,\"solidity\":0.2},\"type\":\"scatter\",\"marker\":{\"opacity\":0.8}}],\"scatterternary\":[{\"marker\":{\"colorbar\":{\"outlinewidth\":0,\"ticks\":\"\"}},\"type\":\"scatterternary\"}],\"surface\":[{\"colorbar\":{\"outlinewidth\":0,\"ticks\":\"\"},\"colorscale\":[[0.0,\"#0d0887\"],[0.1111111111111111,\"#46039f\"],[0.2222222222222222,\"#7201a8\"],[0.3333333333333333,\"#9c179e\"],[0.4444444444444444,\"#bd3786\"],[0.5555555555555556,\"#d8576b\"],[0.6666666666666666,\"#ed7953\"],[0.7777777777777778,\"#fb9f3a\"],[0.8888888888888888,\"#fdca26\"],[1.0,\"#f0f921\"]],\"type\":\"surface\"}],\"table\":[{\"cells\":{\"fill\":{\"color\":\"#EBF0F8\"},\"line\":{\"color\":\"white\"}},\"header\":{\"fill\":{\"color\":\"#C8D4E3\"},\"line\":{\"color\":\"white\"}},\"type\":\"table\"}],\"box\":[{\"boxpoints\":\"outliers\",\"notched\":false,\"type\":\"box\"}]},\"layout\":{\"annotationdefaults\":{\"arrowcolor\":\"#2a3f5f\",\"arrowhead\":0,\"arrowwidth\":1},\"autotypenumbers\":\"strict\",\"coloraxis\":{\"colorbar\":{\"outlinewidth\":0,\"ticks\":\"\"}},\"colorscale\":{\"diverging\":[[0,\"#8e0152\"],[0.1,\"#c51b7d\"],[0.2,\"#de77ae\"],[0.3,\"#f1b6da\"],[0.4,\"#fde0ef\"],[0.5,\"#f7f7f7\"],[0.6,\"#e6f5d0\"],[0.7,\"#b8e186\"],[0.8,\"#7fbc41\"],[0.9,\"#4d9221\"],[1,\"#276419\"]],\"sequential\":[[0.0,\"#0d0887\"],[0.1111111111111111,\"#46039f\"],[0.2222222222222222,\"#7201a8\"],[0.3333333333333333,\"#9c179e\"],[0.4444444444444444,\"#bd3786\"],[0.5555555555555556,\"#d8576b\"],[0.6666666666666666,\"#ed7953\"],[0.7777777777777778,\"#fb9f3a\"],[0.8888888888888888,\"#fdca26\"],[1.0,\"#f0f921\"]],\"sequentialminus\":[[0.0,\"#0d0887\"],[0.1111111111111111,\"#46039f\"],[0.2222222222222222,\"#7201a8\"],[0.3333333333333333,\"#9c179e\"],[0.4444444444444444,\"#bd3786\"],[0.5555555555555556,\"#d8576b\"],[0.6666666666666666,\"#ed7953\"],[0.7777777777777778,\"#fb9f3a\"],[0.8888888888888888,\"#fdca26\"],[1.0,\"#f0f921\"]]},\"colorway\":[\"#636efa\",\"#EF553B\",\"#00cc96\",\"#ab63fa\",\"#FFA15A\",\"#19d3f3\",\"#FF6692\",\"#B6E880\",\"#FF97FF\",\"#FECB52\"],\"font\":{\"color\":\"#2a3f5f\"},\"geo\":{\"bgcolor\":\"white\",\"lakecolor\":\"white\",\"landcolor\":\"white\",\"showlakes\":true,\"showland\":true,\"subunitcolor\":\"#C8D4E3\"},\"hoverlabel\":{\"align\":\"left\"},\"hovermode\":\"closest\",\"mapbox\":{\"style\":\"light\"},\"paper_bgcolor\":\"white\",\"plot_bgcolor\":\"white\",\"polar\":{\"angularaxis\":{\"gridcolor\":\"#EBF0F8\",\"linecolor\":\"#EBF0F8\",\"ticks\":\"\"},\"bgcolor\":\"white\",\"radialaxis\":{\"gridcolor\":\"#EBF0F8\",\"linecolor\":\"#EBF0F8\",\"ticks\":\"\"}},\"scene\":{\"xaxis\":{\"backgroundcolor\":\"white\",\"gridcolor\":\"#DFE8F3\",\"gridwidth\":2,\"linecolor\":\"#EBF0F8\",\"showbackground\":true,\"ticks\":\"\",\"zerolinecolor\":\"#EBF0F8\"},\"yaxis\":{\"backgroundcolor\":\"white\",\"gridcolor\":\"#DFE8F3\",\"gridwidth\":2,\"linecolor\":\"#EBF0F8\",\"showbackground\":true,\"ticks\":\"\",\"zerolinecolor\":\"#EBF0F8\"},\"zaxis\":{\"backgroundcolor\":\"white\",\"gridcolor\":\"#DFE8F3\",\"gridwidth\":2,\"linecolor\":\"#EBF0F8\",\"showbackground\":true,\"ticks\":\"\",\"zerolinecolor\":\"#EBF0F8\"},\"camera\":{\"eye\":{\"x\":1.5,\"y\":1.5,\"z\":0.1}}},\"shapedefaults\":{\"line\":{\"color\":\"#2a3f5f\"}},\"ternary\":{\"aaxis\":{\"gridcolor\":\"#DFE8F3\",\"linecolor\":\"#A2B1C6\",\"ticks\":\"\"},\"baxis\":{\"gridcolor\":\"#DFE8F3\",\"linecolor\":\"#A2B1C6\",\"ticks\":\"\"},\"bgcolor\":\"white\",\"caxis\":{\"gridcolor\":\"#DFE8F3\",\"linecolor\":\"#A2B1C6\",\"ticks\":\"\"}},\"title\":{\"x\":0.5},\"xaxis\":{\"automargin\":true,\"gridcolor\":\"#EBF0F8\",\"linecolor\":\"#EBF0F8\",\"ticks\":\"\",\"title\":{\"standoff\":15},\"zerolinecolor\":\"#EBF0F8\",\"zerolinewidth\":2,\"linewidth\":2,\"showline\":true},\"yaxis\":{\"automargin\":true,\"gridcolor\":\"#EBF0F8\",\"linecolor\":\"#EBF0F8\",\"ticks\":\"\",\"title\":{\"standoff\":15},\"zerolinecolor\":\"#EBF0F8\",\"zerolinewidth\":2,\"linewidth\":2,\"showline\":true},\"height\":400,\"margin\":{\"b\":2,\"l\":2,\"r\":2,\"t\":30}}},\"xaxis\":{\"anchor\":\"y\",\"domain\":[0.0,1.0],\"title\":{\"text\":\"age\"},\"range\":[18,64]},\"yaxis\":{\"anchor\":\"x\",\"domain\":[0.0,1.0],\"title\":{\"text\":\"charges\"}},\"legend\":{\"tracegroupgap\":0},\"title\":{\"text\":\"Test Data (dots) and model (line)\"},\"shapes\":[{\"path\":\"M18.0 7601.628661362484 L 18.231155778894472 7662.11602865177 L 18.462311557788944 7722.603395941055 L 18.693467336683415 7783.090763230341 L 18.92462311557789 7843.578130519627 L 19.155778894472363 7904.065497808912 L 19.386934673366834 7964.552865098198 L 19.618090452261306 8025.040232387483 L 19.849246231155778 8085.527599676769 L 20.08040201005025 8146.014966966054 L 20.311557788944725 8206.50233425534 L 20.542713567839197 8266.989701544626 L 20.77386934673367 8327.477068833912 L 21.00502512562814 8387.964436123197 L 21.236180904522612 8448.451803412481 L 21.467336683417084 8508.939170701768 L 21.698492462311556 8569.426537991054 L 21.92964824120603 8629.91390528034 L 22.160804020100503 8690.401272569625 L 22.391959798994975 8750.88863985891 L 22.623115577889447 8811.376007148196 L 22.85427135678392 8871.86337443748 L 23.085427135678394 8932.350741726767 L 23.316582914572862 8992.838109016051 L 23.547738693467338 9053.325476305337 L 23.77889447236181 9113.812843594624 L 24.01005025125628 9174.300210883908 L 24.241206030150753 9234.787578173193 L 24.472361809045225 9295.274945462479 L 24.7035175879397 9355.762312751765 L 24.934673366834172 9416.249680041052 L 25.165829145728644 9476.737047330336 L 25.396984924623116 9537.22441461962 L 25.628140703517587 9597.711781908907 L 25.85929648241206 9658.199149198193 L 26.09045226130653 9718.686516487478 L 26.321608040201006 9779.173883776764 L 26.55276381909548 9839.661251066049 L 26.78391959798995 9900.148618355335 L 27.015075376884422 9960.63598564462 L 27.246231155778894 10021.123352933904 L 27.47738693467337 10081.61072022319 L 27.708542713567837 10142.098087512477 L 27.939698492462313 10202.585454801763 L 28.170854271356784 10263.072822091048 L 28.402010050251256 10323.560189380332 L 28.633165829145728 10384.047556669619 L 28.8643216080402 10444.534923958905 L 29.095477386934675 10505.022291248191 L 29.326633165829143 10565.509658537474 L 29.55778894472362 10625.99702582676 L 29.78894472361809 10686.484393116047 L 30.020100502512562 10746.971760405333 L 30.251256281407038 10807.45912769462 L 30.482412060301506 10867.946494983902 L 30.71356783919598 10928.433862273188 L 30.944723618090453 10988.921229562475 L 31.175879396984925 11049.40859685176 L 31.407035175879397 11109.895964141044 L 31.63819095477387 11170.38333143033 L 31.869346733668344 11230.870698719616 L 32.10050251256281 11291.358066008903 L 32.33165829145729 11351.84543329819 L 32.56281407035176 11412.332800587476 L 32.79396984924623 11472.820167876758 L 33.0251256281407 11533.307535166045 L 33.256281407035175 11593.79490245533 L 33.48743718592965 11654.282269744614 L 33.71859296482412 11714.7696370339 L 33.949748743718594 11775.257004323186 L 34.18090452261306 11835.744371612469 L 34.41206030150754 11896.231738901755 L 34.64321608040201 11956.719106191042 L 34.87437185929648 12017.206473480328 L 35.10552763819096 12077.693840769614 L 35.336683417085425 12138.181208058897 L 35.5678391959799 12198.668575348183 L 35.798994974874375 12259.15594263747 L 36.030150753768844 12319.643309926756 L 36.26130653266331 12380.130677216039 L 36.49246231155779 12440.618044505325 L 36.72361809045226 12501.105411794611 L 36.95477386934674 12561.592779083898 L 37.185929648241206 12622.080146373184 L 37.417085427135675 12682.567513662467 L 37.64824120603015 12743.054880951753 L 37.879396984924625 12803.54224824104 L 38.1105527638191 12864.029615530326 L 38.34170854271357 12924.516982819612 L 38.57286432160804 12985.004350108895 L 38.80402010050251 13045.491717398181 L 39.03517587939699 13105.979084687468 L 39.266331658291456 13166.466451976754 L 39.49748743718593 13226.95381926604 L 39.7286432160804 13287.441186555323 L 39.959798994974875 13347.92855384461 L 40.19095477386935 13408.415921133896 L 40.42211055276382 13468.903288423182 L 40.65326633165829 13529.390655712465 L 40.88442211055276 13589.878023001751 L 41.11557788944724 13650.365390291037 L 41.34673366834171 13710.852757580324 L 41.57788944723618 13771.34012486961 L 41.80904522613065 13831.827492158893 L 42.040201005025125 13892.314859448179 L 42.2713567839196 13952.802226737465 L 42.502512562814076 14013.289594026752 L 42.733668341708544 14073.776961316034 L 42.96482412060301 14134.26432860532 L 43.19597989949749 14194.751695894607 L 43.42713567839196 14255.239063183893 L 43.65829145728643 14315.726430473176 L 43.88944723618091 14376.213797762462 L 44.120603015075375 14436.701165051749 L 44.35175879396985 14497.188532341035 L 44.582914572864325 14557.675899630322 L 44.814070351758794 14618.163266919604 L 45.04522613065326 14678.65063420889 L 45.27638190954774 14739.138001498177 L 45.50753768844221 14799.625368787463 L 45.73869346733669 14860.11273607675 L 45.969849246231156 14920.600103366032 L 46.201005025125625 14981.087470655319 L 46.4321608040201 15041.574837944605 L 46.663316582914575 15102.062205233891 L 46.89447236180905 15162.549572523178 L 47.12562814070352 15223.03693981246 L 47.35678391959799 15283.524307101747 L 47.58793969849246 15344.011674391033 L 47.81909547738694 15404.49904168032 L 48.050251256281406 15464.986408969602 L 48.281407035175874 15525.473776258888 L 48.51256281407035 15585.961143548175 L 48.743718592964825 15646.448510837461 L 48.9748743718593 15706.935878126747 L 49.20603015075377 15767.42324541603 L 49.43718592964824 15827.910612705316 L 49.66834170854271 15888.397979994603 L 49.89949748743719 15948.88534728389 L 50.130653266331656 16009.372714573172 L 50.36180904522613 16069.860081862458 L 50.59296482412061 16130.347449151745 L 50.824120603015075 16190.83481644103 L 51.05527638190955 16251.322183730314 L 51.28643216080402 16311.8095510196 L 51.517587939698494 16372.296918308886 L 51.74874371859296 16432.78428559817 L 51.97989949748744 16493.271652887455 L 52.21105527638191 16553.75902017674 L 52.44221105527638 16614.246387466028 L 52.67336683417086 16674.733754755314 L 52.904522613065325 16735.221122044597 L 53.1356783919598 16795.708489333883 L 53.36683417085427 16856.19585662317 L 53.597989949748744 16916.683223912456 L 53.82914572864322 16977.170591201742 L 54.06030150753769 17037.657958491025 L 54.29145728643216 17098.14532578031 L 54.52261306532663 17158.632693069598 L 54.753768844221106 17219.120060358884 L 54.984924623115575 17279.607427648167 L 55.21608040201005 17340.094794937453 L 55.447236180904525 17400.58216222674 L 55.678391959798994 17461.069529516026 L 55.90954773869347 17521.556896805312 L 56.14070351758794 17582.044264094595 L 56.37185929648241 17642.53163138388 L 56.60301507537689 17703.018998673168 L 56.834170854271356 17763.506365962454 L 57.06532663316583 17823.99373325174 L 57.2964824120603 17884.481100541023 L 57.527638190954775 17944.96846783031 L 57.75879396984924 18005.455835119596 L 57.98994974874372 18065.943202408882 L 58.221105527638194 18126.43056969817 L 58.45226130653266 18186.91793698745 L 58.68341708542714 18247.405304276737 L 58.914572864321606 18307.892671566024 L 59.14572864321608 18368.38003885531 L 59.37688442211055 18428.867406144593 L 59.608040201005025 18489.35477343388 L 59.8391959798995 18549.842140723165 L 60.07035175879397 18610.329508012448 L 60.301507537688444 18670.816875301734 L 60.53266331658291 18731.30424259102 L 60.76381909547739 18791.791609880307 L 60.99497487437186 18852.278977169593 L 61.22613065326633 18912.766344458876 L 61.45728643216081 18973.253711748162 L 61.688442211055275 19033.74107903745 L 61.91959798994975 19094.228446326735 L 62.15075376884422 19154.715813616018 L 62.381909547738694 19215.203180905304 L 62.61306532663317 19275.690548194594 L 62.84422110552764 19336.177915483877 L 63.07537688442211 19396.665282773163 L 63.30653266331658 19457.15265006245 L 63.537688442211056 19517.640017351736 L 63.768844221105525 19578.12738464102 L 64.0 19638.614751930305\",\"type\":\"path\",\"line\":{\"color\":\"Crimson\"}}]},                        {\"responsive\": true}                    ).then(function(){\n",
              "                            \n",
              "var gd = document.getElementById('9de00b18-d28f-4c02-b93d-c4efd2a843b9');\n",
              "var x = new MutationObserver(function (mutations, observer) {{\n",
              "        var display = window.getComputedStyle(gd).display;\n",
              "        if (!display || display === 'none') {{\n",
              "            console.log([gd, 'removed!']);\n",
              "            Plotly.purge(gd);\n",
              "            observer.disconnect();\n",
              "        }}\n",
              "}});\n",
              "\n",
              "// Listen for the removal of the full notebook cells\n",
              "var notebookContainer = gd.closest('#notebook-container');\n",
              "if (notebookContainer) {{\n",
              "    x.observe(notebookContainer, {childList: true});\n",
              "}}\n",
              "\n",
              "// Listen for the clearing of the current output cell\n",
              "var outputEl = gd.closest('.output');\n",
              "if (outputEl) {{\n",
              "    x.observe(outputEl, {childList: true});\n",
              "}}\n",
              "\n",
              "                        })                };                            </script>        </div>\n",
              "</body>\n",
              "</html>"
            ]
          },
          "metadata": {}
        }
      ],
      "source": [
        "# Replace question marks below with code that makes this work\n",
        "graphing.scatter_2D(testing_data, label_x='age', label_y='charges', trendline=trained_model.predict, title=\"Test Data (dots) and model (line)\")"
      ]
    },
    {
      "cell_type": "markdown",
      "metadata": {
        "id": "VvZseOjZVbTl"
      },
      "source": [
        "## Test the Model\n",
        "\n",
        "You've just graphed how well your model does at predicting the test dataset.\n",
        "\n",
        "We want to know how close the model is to predicting charges for the average person, though.\n",
        "\n",
        "For this, we will calculate the mean absolute difference. This tells us how far off the model is, on average, at predicting charges. We can even ask `statsmodels` to calculate it for us.\n",
        "\n",
        "We will need to:\n",
        "1. Make predictions for each person in the testing dataset\n",
        "1. Ask statsmodels to compare those predictions to the actual values in the testing dataset\n",
        "\n",
        "We will do this in three steps.\n",
        "\n",
        "\n",
        "### Instructions (1 of 3)\n",
        "\n",
        "Let's make predictions for each person in the testing set.\n",
        "\n",
        "In the cell below:\n",
        "1. Read the code carefully\n",
        "1. Replace the first set of question marks with the name of the method we use to `predict` things\n",
        "1. Replace the second set of question marks with the name of our testing data\n",
        "1. Run the cell\n",
        "1. Once it works, check you understand what it is doing\n",
        "\n",
        "### Hints\n",
        "* The name of the method that we use to `predict` things has a fairly obvious name that we have mentioned repeatedly in class. It was used in Step 7. It stats with `pr` and ends in `ict`...\n",
        "* You just used the testing data in the previous step. If you've forgotten its name, see you answers there."
      ]
    },
    {
      "cell_type": "code",
      "execution_count": 20,
      "metadata": {
        "id": "LvllG9W-VbTm",
        "outputId": "d5bb6b55-da2d-454a-befc-9430e4f55cf7",
        "colab": {
          "base_uri": "https://localhost:8080/"
        }
      },
      "outputs": [
        {
          "output_type": "stream",
          "name": "stdout",
          "text": [
            "Predictions:\n",
            "3       11526.732821\n",
            "7       12573.427264\n",
            "14       9956.691157\n",
            "18      17545.225867\n",
            "29      11003.385600\n",
            "            ...     \n",
            "1317     7601.628661\n",
            "1318    12050.080043\n",
            "1323    13881.795317\n",
            "1325    18853.593920\n",
            "1335     7601.628661\n",
            "Length: 268, dtype: float64\n",
            "Well done!\n"
          ]
        }
      ],
      "source": [
        "# Make predictions using the testing data\n",
        "predictions = trained_model.predict(testing_data)\n",
        "\n",
        "print(\"Predictions:\")\n",
        "print(predictions)\n",
        "\n",
        "\n",
        "# ===========================================================\n",
        "# You can ignore the code below. It will simply check your code\n",
        "if 'predictions' in locals():\n",
        "    if predictions.size == len(testing_data):\n",
        "        print(\"Well done!\")\n",
        "    else:\n",
        "        print(\"Did you predict using the correct dataset? Try again\")\n",
        "else:\n",
        "    print(\"Try again!\")"
      ]
    },
    {
      "cell_type": "markdown",
      "metadata": {
        "id": "CBgCsJX2VbTm"
      },
      "source": [
        "### Instruction (2 of 3)\n",
        "\n",
        "The part of `statsmodels` that can compare our predictions and the actual answers is in `statsmodels.tools.eval_measures`\n",
        "1. In the cell below, import `statsmodels.tools.eval_measures`\n",
        "1. Run the cell\n",
        "\n",
        "### Hints\n",
        "\n",
        "We've imported a few things now. There is nothing special about this time. The name of the package is just different."
      ]
    },
    {
      "cell_type": "code",
      "execution_count": 21,
      "metadata": {
        "id": "rJygc3QWVbTm"
      },
      "outputs": [],
      "source": [
        "# Replace the ??? with code to import statsmodels.tools.eval_measures\n",
        "# This time, don't give it a nickname\n",
        "import statsmodels.tools.eval_measures\n",
        "## calculate means sqaured errors"
      ]
    },
    {
      "cell_type": "markdown",
      "metadata": {
        "id": "ZZbbK9dRVbTm"
      },
      "source": [
        "### Instructions (3 of 3)\n",
        "\n",
        "Time to calculate the mean (average) absolute difference between the predictions and the correct answers.\n",
        "\n",
        "To do this, we need to use the package we just imported. It contains a method called `meanabs` that can do the job for us.\n",
        "\n",
        "In the cell below we compare the results to the actual answers\n",
        "1. Read all the code and its comments\n",
        "1. Replace the first set of question marks with the name of the package we just imported\n",
        "1. Replace the second set of question marks with the method we want to use (`meanabs`).\n",
        "1. Replace the third set of question marks with the variable holding predictions we just made\n",
        "1. Run the cell\n",
        "1. Once it works, review what you've just written\n",
        "1. Write down the error value. You will need it in the next notebook\n",
        "\n",
        "### Hints\n",
        "\n",
        "* When you use the package, you need to write it out in full (including the fullstops)\n",
        "* You made the variables holding the predictions you made a minute or two ago. Scroll up if you've forgotten its name.\n",
        "* Your error value should be more than $8000. If it is less, something is wrong."
      ]
    },
    {
      "cell_type": "code",
      "execution_count": 25,
      "metadata": {
        "id": "SeFU6SkrVbTm",
        "outputId": "6d44ac52-1f96-4427-8e6a-3b7e3d668b78",
        "colab": {
          "base_uri": "https://localhost:8080/"
        }
      },
      "outputs": [
        {
          "output_type": "execute_result",
          "data": {
            "text/plain": [
              "9356.249186826748"
            ]
          },
          "metadata": {},
          "execution_count": 25
        }
      ],
      "source": [
        "# Get the correct answers\n",
        "correct_answers = testing_data.charges\n",
        "\n",
        "# Replace question marks below so that we can compare\n",
        "# these correct answers to the predictions we have made\n",
        "statsmodels.tools.eval_measures.meanabs(correct_answers, predictions)"
      ]
    },
    {
      "cell_type": "markdown",
      "metadata": {
        "id": "8c6UwmSJVbTm"
      },
      "source": [
        "## Final Step\n",
        "\n",
        "Wow! You've covered a lot.\n",
        "\n",
        "Here's what you've done:\n",
        "\n",
        "1. Imported a number of ML libraries\n",
        "1. Opened raw data into a format the computer understands\n",
        "1. Looked at it\n",
        "1. Graphed it\n",
        "1. Made a model\n",
        "1. Trained the model\n",
        "1. Looked at how well it works\n",
        "\n",
        "The only downside is that the model has not worked as well as we want. Remember, we wanted most estimations of healthcare insurance charges to be within $5000 of the real thing.\n",
        "\n",
        "The next notebook we will build a model that uses more than one feature, hoping that it will achieve our goal.\n",
        "\n",
        "### Instructions\n",
        "\n",
        "1. Take a quick breather, then read this completed notebook from start to finish. Try to see everything you've done and understand how you did it.\n",
        "1. Move onto the second notebook. Keep this one open though - you can use it as a reference to help you complete that second."
      ]
    }
  ],
  "metadata": {
    "kernelspec": {
      "display_name": "Python 3.9.12 ('qrc')",
      "language": "python",
      "name": "python3"
    },
    "language_info": {
      "codemirror_mode": {
        "name": "ipython",
        "version": 3
      },
      "file_extension": ".py",
      "mimetype": "text/x-python",
      "name": "python",
      "nbconvert_exporter": "python",
      "pygments_lexer": "ipython3",
      "version": "3.9.12"
    },
    "orig_nbformat": 4,
    "vscode": {
      "interpreter": {
        "hash": "41498a424a220ce2e0ee039f3f9373674f5843dde923c2b6020303f8f1c20346"
      }
    },
    "colab": {
      "provenance": [],
      "include_colab_link": true
    }
  },
  "nbformat": 4,
  "nbformat_minor": 0
}